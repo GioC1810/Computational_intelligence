{
 "cells": [
  {
   "cell_type": "code",
   "execution_count": 768,
   "id": "initial_id",
   "metadata": {
    "collapsed": true,
    "ExecuteTime": {
     "end_time": "2023-10-30T22:50:57.346735Z",
     "start_time": "2023-10-30T22:50:57.325577Z"
    }
   },
   "outputs": [],
   "source": [
    "from itertools import product\n",
    "from random import random, randint, shuffle, seed\n",
    "import numpy as np\n",
    "from scipy import sparse\n",
    "from copy import copy\n",
    "from functools import reduce\n",
    "from random import choice\n",
    "from queue import PriorityQueue"
   ]
  },
  {
   "cell_type": "code",
   "execution_count": 769,
   "outputs": [],
   "source": [
    "def make_set_covering_problem(num_points, num_sets, density):\n",
    "    \"\"\"Returns a sparse array where rows are sets and columns are the covered items\"\"\"\n",
    "    seed(num_points*2654435761+num_sets+density)\n",
    "    sets = sparse.lil_array((num_sets, num_points), dtype=bool)\n",
    "    for s, p in product(range(num_sets), range(num_points)):\n",
    "        if random() < density:\n",
    "            sets[s, p] = True\n",
    "    for p in range(num_points):\n",
    "        sets[randint(0, num_sets-1), p] = True\n",
    "    return sets.toarray()"
   ],
   "metadata": {
    "collapsed": false,
    "ExecuteTime": {
     "end_time": "2023-10-30T22:50:57.346960Z",
     "start_time": "2023-10-30T22:50:57.329862Z"
    }
   },
   "id": "11b4930a79d4e626"
  },
  {
   "cell_type": "markdown",
   "source": [
    "# Halloween Challenge\n",
    "\n",
    "Find the best solution with the fewest calls to the fitness functions for:\n",
    "\n",
    "* `num_points = [100, 1_000, 5_000]`\n",
    "* `num_sets = num_points`\n",
    "* `density = [.3, .7]` "
   ],
   "metadata": {
    "collapsed": false
   },
   "id": "3cd5b051d133ce9a"
  },
  {
   "cell_type": "code",
   "execution_count": 770,
   "outputs": [],
   "source": [
    "PROBLEM_SIZE = [100, 1000, 5000]\n",
    "DENSITY = [.3, .7]"
   ],
   "metadata": {
    "collapsed": false,
    "ExecuteTime": {
     "end_time": "2023-10-30T22:50:57.347509Z",
     "start_time": "2023-10-30T22:50:57.332668Z"
    }
   },
   "id": "9a615c79f62a73d1"
  },
  {
   "cell_type": "code",
   "execution_count": 771,
   "outputs": [],
   "source": [
    "def tweak(state, problem_size):\n",
    "    new_state = copy(state)\n",
    "    index = randint(0,  problem_size - 1)\n",
    "    new_state[index] = not new_state[index]\n",
    "    return new_state\n",
    "\n",
    "def fitness(state, problem_size, sets):\n",
    "    cost = sum(state)\n",
    "    valid = np.sum(\n",
    "        reduce(\n",
    "            np.logical_or,\n",
    "            [sets[i] for i, t in enumerate(state) if t],\n",
    "            np.array([False for _ in range(problem_size)]),\n",
    "        )\n",
    "    )\n",
    "    return valid, -cost"
   ],
   "metadata": {
    "collapsed": false,
    "ExecuteTime": {
     "end_time": "2023-10-30T22:50:57.347547Z",
     "start_time": "2023-10-30T22:50:57.336377Z"
    }
   },
   "id": "4e594f9145c8ac0d"
  },
  {
   "cell_type": "markdown",
   "source": [
    "# Hill Climbing with Termination"
   ],
   "metadata": {
    "collapsed": false
   },
   "id": "819e46d17c76f5ca"
  },
  {
   "cell_type": "code",
   "execution_count": null,
   "outputs": [],
   "source": [
    "def hill_climbing_with_termination(fitness_func, state_current, no_improvement_iterations, problem_size, sets):\n",
    "    counter = 0\n",
    "    fitness_call = 0\n",
    "    no_improvements = 0\n",
    "    iterations = 0\n",
    "    current_best_state_fitness = fitness_func(state_current, problem_size, sets)\n",
    "    for step in range(10000):\n",
    "        iterations += 1\n",
    "        if no_improvements >= no_improvement_iterations:\n",
    "            break\n",
    "        new_state = tweak(state_current, problem_size)\n",
    "        new_state_fitness = fitness_func(new_state, problem_size, sets)\n",
    "        fitness_call += 1\n",
    "        if  new_state_fitness > current_best_state_fitness:\n",
    "            counter += 1\n",
    "            no_improvements = 0\n",
    "            state_current = new_state\n",
    "            current_best_state_fitness = new_state_fitness\n",
    "        else:\n",
    "            no_improvements += 1\n",
    "    return state_current, current_best_state_fitness, fitness_call\n",
    "    \n",
    "list_best_solutions = []\n",
    "for size in PROBLEM_SIZE:\n",
    "    for density in DENSITY:\n",
    "        best_solution = None\n",
    "        for max_iter in range(size//10, size+1, size//10):\n",
    "            SETS = make_set_covering_problem(size, size, density)\n",
    "            current_state = [choice([False, False, False, False, False, False]) for _ in range(size)]\n",
    "            state, fitness_state, fitness_call = hill_climbing_with_termination(fitness, current_state, max_iter, size, SETS)\n",
    "            if best_solution is None or (fitness_state > best_solution[0]) or (fitness_state == best_solution[0] and fitness_call < best_solution[1]):\n",
    "                best_solution = (fitness_state, fitness_call, max_iter, size, density)\n",
    "        list_best_solutions.append(best_solution)\n",
    "\n",
    "for index, sol in enumerate(list_best_solutions):\n",
    "    print(f\"Hill climbing with termination with PROBLEM_SIZE: {sol[3]} and DENSITY: {sol[4]}\")\n",
    "    print(f\"FITNESS_STATE: {sol[0]}\\nFITNESS CALL: {sol[1]}\\nMAX_ITERATIONS: {sol[2]}\")\n"
   ],
   "metadata": {
    "collapsed": false,
    "is_executing": true,
    "ExecuteTime": {
     "start_time": "2023-10-30T22:50:57.344954Z"
    }
   },
   "id": "eedf1b3bf29d53e1"
  },
  {
   "cell_type": "markdown",
   "source": [
    "# Hill Climbing With Random Restart"
   ],
   "metadata": {
    "collapsed": false
   },
   "id": "87e66f3920b58ea0"
  },
  {
   "cell_type": "code",
   "execution_count": null,
   "outputs": [],
   "source": [
    "def hill_climbing_with_random_restart(fitness_func, state_current, no_improvement_iterations, problem_size, sets, prob):\n",
    "    counter = 0\n",
    "    fitness_call = 0\n",
    "    no_improvements = 0\n",
    "    iterations = 0\n",
    "    current_best_state_fitness = fitness_func(state_current, problem_size, sets)\n",
    "    current_best_state = copy(state_current)\n",
    "    for step in range(10000):\n",
    "        iterations += 1\n",
    "        if no_improvements >= no_improvement_iterations:\n",
    "            current_best_state = copy(state_current)\n",
    "            state_current = [random() < prob for _ in range(size)]\n",
    "        new_state = tweak(state_current, problem_size)\n",
    "        new_state_fitness = fitness_func(new_state, problem_size, sets)\n",
    "        fitness_call += 1\n",
    "        if  new_state_fitness > current_best_state_fitness:\n",
    "            counter += 1\n",
    "            no_improvements = 0\n",
    "            state_current = new_state\n",
    "            current_best_state = copy(state_current)\n",
    "            current_best_state_fitness = new_state_fitness\n",
    "        else:\n",
    "            no_improvements += 1\n",
    "    return current_best_state, current_best_state_fitness, fitness_call\n",
    "\n",
    "\n",
    "list_best_solutions = []\n",
    "for size in PROBLEM_SIZE:\n",
    "    for density in DENSITY:\n",
    "        best_solution = None\n",
    "        for max_iter in range(size//10, size+1, size//10):\n",
    "            for prob in [0.1, 0.2, 0.3]:\n",
    "                SETS = make_set_covering_problem(size, size, density)\n",
    "                current_state = [choice([False, False, False, False, False, False]) for _ in range(size)]\n",
    "                state, fitness_state, fitness_call = hill_climbing_with_random_restart(fitness, current_state, max_iter, size, SETS, prob)\n",
    "                if best_solution is None or (fitness_state > best_solution[0]) or (fitness_state == best_solution[0] and fitness_call < best_solution[1]):\n",
    "                    best_solution = (fitness_state, fitness_call, max_iter, size, density, prob)\n",
    "        list_best_solutions.append(best_solution)\n",
    "\n",
    "for index, sol in enumerate(list_best_solutions):\n",
    "    print(f\"Hill climbing with random restart with PROBLEM_SIZE: {sol[3]} and DENSITY: {sol[4]}\")\n",
    "    print(f\"FITNESS_STATE: {sol[0]}\\nFITNESS CALL: {sol[1]}\\nMAX_ITERATIONS: {sol[2]}\\nPROB FOR RESTART: {sol[5]}\")"
   ],
   "metadata": {
    "collapsed": false,
    "is_executing": true
   },
   "id": "dc7e22d393f81df2"
  },
  {
   "cell_type": "markdown",
   "source": [
    "# Hill climbing with steepest step"
   ],
   "metadata": {
    "collapsed": false
   },
   "id": "6336ef1c3c1368f0"
  },
  {
   "cell_type": "code",
   "execution_count": null,
   "outputs": [],
   "source": [
    "def tweak_index(state, index):\n",
    "    new_state = copy(state)\n",
    "    new_state[index] = not state[index]\n",
    "    return new_state\n",
    "\n",
    "def steepest_step(fitness, state, size, sets):\n",
    "    new_state = tweak_index(state, 0)\n",
    "    new_state_fitness = fitness(new_state, size, sets)\n",
    "    for index in range(0, size):\n",
    "            temp_state = tweak_index(state, index)\n",
    "            temp_state_fitness = fitness(temp_state, size, sets)\n",
    "            if temp_state_fitness > new_state_fitness:\n",
    "                new_state = temp_state\n",
    "                new_state_fitness = temp_state_fitness\n",
    "    return new_state, new_state_fitness\n",
    "\n",
    "def hill_climbing_steepest_step(fitness_func, state_current, no_improvement_iterations, problem_size, sets, prob):\n",
    "    counter = 0\n",
    "    fitness_call = 0\n",
    "    no_improvements = 0\n",
    "    current_best_state_fitness = fitness_func(state_current, problem_size, sets)\n",
    "    for step in range(1000):\n",
    "        if no_improvements >= no_improvement_iterations:\n",
    "            break\n",
    "        a = random() < prob\n",
    "        if not a:\n",
    "            new_state, new_state_fitness = steepest_step(fitness, state_current, problem_size, sets)\n",
    "            fitness_call += problem_size\n",
    "        else:\n",
    "            new_state = tweak(state_current, problem_size)\n",
    "            new_state_fitness = fitness_func(new_state, problem_size, sets)\n",
    "            fitness_call += 1\n",
    "        if new_state_fitness > current_best_state_fitness:\n",
    "            counter += 1\n",
    "            no_improvements = 0\n",
    "            state_current = new_state\n",
    "            current_best_state = copy(state_current)\n",
    "            current_best_state_fitness = new_state_fitness\n",
    "        else:\n",
    "            no_improvements += 1\n",
    "    return current_best_state, current_best_state_fitness, fitness_call\n",
    "\n",
    "\n",
    "list_best_solutions = []\n",
    "for size in PROBLEM_SIZE:\n",
    "    for density in DENSITY:\n",
    "        best_solution = None\n",
    "        for max_iter in range(size//10, size+1, size//10):\n",
    "            SETS = make_set_covering_problem(size, size, density)\n",
    "            current_state = [choice([False, False, False, False, False, False]) for _ in range(size)]\n",
    "            state, fitness_state, fitness_call = hill_climbing_steepest_step(fitness, current_state, 500, size, SETS, prob)\n",
    "            if best_solution is None or (fitness_state > best_solution[0]) or (fitness_state == best_solution[0] and fitness_call < best_solution[1]):                  \n",
    "                best_solution = (fitness_state, fitness_call, max_iter, size, density, prob)       \n",
    "        list_best_solutions.append(best_solution)\n",
    "\n",
    "for index, sol in enumerate(list_best_solutions):\n",
    "    print(f\"Hill climbing with steepest step with PROBLEM_SIZE: {sol[3]} and DENSITY: {sol[4]}\")\n",
    "    print(f\"FITNESS_STATE: {sol[0]}\\nFITNESS CALL: {sol[1]}\\nMAX_ITERATIONS: {sol[2]} PROB: {sol[5]}\")"
   ],
   "metadata": {
    "collapsed": false,
    "is_executing": true
   },
   "id": "813e1842b6576fc2"
  },
  {
   "cell_type": "code",
   "execution_count": null,
   "outputs": [],
   "source": [],
   "metadata": {
    "collapsed": false,
    "is_executing": true
   },
   "id": "7b8b97088d1efd61"
  }
 ],
 "metadata": {
  "kernelspec": {
   "display_name": "Python 3",
   "language": "python",
   "name": "python3"
  },
  "language_info": {
   "codemirror_mode": {
    "name": "ipython",
    "version": 2
   },
   "file_extension": ".py",
   "mimetype": "text/x-python",
   "name": "python",
   "nbconvert_exporter": "python",
   "pygments_lexer": "ipython2",
   "version": "2.7.6"
  }
 },
 "nbformat": 4,
 "nbformat_minor": 5
}
