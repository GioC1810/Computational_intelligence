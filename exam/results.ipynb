{
 "cells": [
  {
   "cell_type": "markdown",
   "source": [
    "# Monte Carlo Player"
   ],
   "metadata": {
    "collapsed": false
   },
   "id": "e9576d6916deb60d"
  },
  {
   "cell_type": "code",
   "outputs": [],
   "source": [
    "from players.monte_carlo_player import MonteCarloPlayer as MC\n",
    "from players.random_player import RandomPlayer\n",
    "from utils import MC_TABLE_FIRST, MC_TABLE_SECOND"
   ],
   "metadata": {
    "collapsed": false,
    "ExecuteTime": {
     "end_time": "2024-02-13T20:47:50.727766Z",
     "start_time": "2024-02-13T20:47:50.696901Z"
    }
   },
   "id": "759df5ff30bd0a43",
   "execution_count": 16
  },
  {
   "cell_type": "markdown",
   "source": [
    "## Play as first player"
   ],
   "metadata": {
    "collapsed": false
   },
   "id": "272d6be460d05a89"
  },
  {
   "cell_type": "code",
   "outputs": [
    {
     "name": "stdout",
     "output_type": "stream",
     "text": [
      "number of victories: 845, draws: 0 out of 1000\n"
     ]
    }
   ],
   "source": [
    "mc_1 = MC(0, 0, 0, 0)\n",
    "mc_1.load_q_table_joblib(MC_TABLE_FIRST)\n",
    "mc_1.test(1000, RandomPlayer(2), first_player=True)"
   ],
   "metadata": {
    "collapsed": false,
    "ExecuteTime": {
     "end_time": "2024-02-13T20:54:20.661107Z",
     "start_time": "2024-02-13T20:53:41.426405Z"
    }
   },
   "id": "439af6bc5197e3d0",
   "execution_count": 20
  },
  {
   "cell_type": "markdown",
   "source": [
    "## PLay as second player"
   ],
   "metadata": {
    "collapsed": false
   },
   "id": "e8a6ae62111a2fe6"
  },
  {
   "cell_type": "code",
   "outputs": [
    {
     "name": "stdout",
     "output_type": "stream",
     "text": [
      "number of victories: 840, draws: 0 out of 1000\n"
     ]
    }
   ],
   "source": [
    "mc_2 = MC(0, 0, 0, 0)\n",
    "mc_2.load_q_table(MC_TABLE_SECOND)\n",
    "mc_2.test(1000, RandomPlayer(1), first_player=False)"
   ],
   "metadata": {
    "collapsed": false,
    "ExecuteTime": {
     "end_time": "2024-02-11T21:33:25.219269Z",
     "start_time": "2024-02-11T21:31:23.344227Z"
    }
   },
   "id": "14b4d549a8df05e8",
   "execution_count": 7
  },
  {
   "cell_type": "markdown",
   "source": [
    "# MinMax Player"
   ],
   "metadata": {
    "collapsed": false
   },
   "id": "327d32086fb78efc"
  },
  {
   "cell_type": "code",
   "outputs": [],
   "source": [
    "%load_ext autoreload\n",
    "%autoreload 2\n",
    "from players.minmax_player import MinMaxPlayer as MINMAX\n",
    "from players.random_player import RandomPlayer\n",
    "from utils import Utilities"
   ],
   "metadata": {
    "collapsed": false,
    "ExecuteTime": {
     "end_time": "2024-02-13T08:10:36.613175Z",
     "start_time": "2024-02-13T08:10:35.799382Z"
    }
   },
   "id": "27bb8c04635fc12f",
   "execution_count": 2
  },
  {
   "cell_type": "markdown",
   "source": [
    "## Play as first player"
   ],
   "metadata": {
    "collapsed": false
   },
   "id": "d13c5bd4b5391968"
  },
  {
   "cell_type": "code",
   "outputs": [
    {
     "name": "stdout",
     "output_type": "stream",
     "text": [
      "number of victories: 98, out of 100\n"
     ]
    },
    {
     "data": {
      "text/plain": "0.98"
     },
     "execution_count": 3,
     "metadata": {},
     "output_type": "execute_result"
    }
   ],
   "source": [
    "minmax_1 = MINMAX(depth=3)\n",
    "Utilities.play_multiple_games(100, minmax_1, RandomPlayer(2))"
   ],
   "metadata": {
    "collapsed": false,
    "ExecuteTime": {
     "end_time": "2024-02-13T08:14:53.471471Z",
     "start_time": "2024-02-13T08:10:37.890174Z"
    }
   },
   "id": "e42ba53110c43c51",
   "execution_count": 3
  },
  {
   "cell_type": "markdown",
   "source": [
    "## Play as second player"
   ],
   "metadata": {
    "collapsed": false
   },
   "id": "ba5af38d2c40f1f3"
  },
  {
   "cell_type": "code",
   "outputs": [
    {
     "name": "stdout",
     "output_type": "stream",
     "text": [
      "number of victories: 98, out of 100\n"
     ]
    },
    {
     "data": {
      "text/plain": "0.98"
     },
     "execution_count": 13,
     "metadata": {},
     "output_type": "execute_result"
    }
   ],
   "source": [
    "minmax_2 = MINMAX(depth=2)\n",
    "Utilities.play_multiple_games(100, RandomPlayer(2), minmax_2)"
   ],
   "metadata": {
    "collapsed": false,
    "ExecuteTime": {
     "end_time": "2024-02-12T09:17:08.467574Z",
     "start_time": "2024-02-12T09:16:26.877526Z"
    }
   },
   "id": "b83d653ee2db253",
   "execution_count": 13
  },
  {
   "cell_type": "markdown",
   "source": [
    "# Q Learning Agent"
   ],
   "metadata": {
    "collapsed": false
   },
   "id": "e70db6888757ecae"
  },
  {
   "cell_type": "code",
   "outputs": [],
   "source": [],
   "metadata": {
    "collapsed": false
   },
   "id": "82d51ccc68eaddbe"
  }
 ],
 "metadata": {
  "kernelspec": {
   "display_name": "Python 3",
   "language": "python",
   "name": "python3"
  },
  "language_info": {
   "codemirror_mode": {
    "name": "ipython",
    "version": 2
   },
   "file_extension": ".py",
   "mimetype": "text/x-python",
   "name": "python",
   "nbconvert_exporter": "python",
   "pygments_lexer": "ipython2",
   "version": "2.7.6"
  }
 },
 "nbformat": 4,
 "nbformat_minor": 5
}
