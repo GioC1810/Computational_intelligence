{
 "cells": [
  {
   "cell_type": "markdown",
   "source": [
    "# Set covering implementation"
   ],
   "metadata": {
    "collapsed": false
   },
   "id": "b47dd4ecab642209"
  },
  {
   "cell_type": "code",
   "execution_count": 192,
   "outputs": [],
   "source": [
    "from random import random\n",
    "from functools import reduce\n",
    "from collections import namedtuple\n",
    "from queue import PriorityQueue, SimpleQueue, LifoQueue\n",
    "import numpy as np"
   ],
   "metadata": {
    "collapsed": false,
    "ExecuteTime": {
     "end_time": "2023-10-26T16:22:23.281329Z",
     "start_time": "2023-10-26T16:22:23.261014Z"
    }
   },
   "id": "initial_id"
  },
  {
   "cell_type": "code",
   "execution_count": 193,
   "outputs": [],
   "source": [
    "PROBLEM_SIZE = 20\n",
    "NUM_SETS = 100\n",
    "SET_PROBABILITY = 0.3\n",
    "SETS = tuple(\n",
    "    np.array([random() < SET_PROBABILITY for _ in range(PROBLEM_SIZE)])\n",
    "    for _ in range(NUM_SETS)\n",
    ")\n",
    "State = namedtuple('State', ['taken', 'not_taken'])"
   ],
   "metadata": {
    "collapsed": false,
    "ExecuteTime": {
     "end_time": "2023-10-26T16:22:23.284628Z",
     "start_time": "2023-10-26T16:22:23.264704Z"
    }
   },
   "id": "fc6ba90f45436d0c"
  },
  {
   "cell_type": "markdown",
   "source": [
    "## Utility functions\n",
    "These are utility functions:\n",
    "* goal_check: check if the current state covers all the positions\n",
    "* distance: compute how many positions are covered by the current set\n",
    "* count_taken_sets: count the actual number of positions covered by the set"
   ],
   "metadata": {
    "collapsed": false
   },
   "id": "ace4dc0a4c7fc5ba"
  },
  {
   "cell_type": "code",
   "execution_count": 194,
   "outputs": [],
   "source": [
    "def covered(state):\n",
    "    return reduce(\n",
    "        np.logical_or,\n",
    "        [SETS[i] for i in state.taken],\n",
    "        np.array([False for _ in range(PROBLEM_SIZE)]),\n",
    "    )\n",
    "\n",
    "def goal_check(state):\n",
    "    return np.all(covered(state))\n",
    "\n",
    "def distance(state):\n",
    "    return PROBLEM_SIZE - sum(covered(state))\n",
    "\n",
    "def count_taken_sets(state):\n",
    "    return len(state.taken)\n",
    "\n",
    "assert goal_check(\n",
    "    State(set(range(NUM_SETS)), set())\n",
    "), \"Probelm not solvable\"\n"
   ],
   "metadata": {
    "collapsed": false,
    "ExecuteTime": {
     "end_time": "2023-10-26T16:22:23.285753Z",
     "start_time": "2023-10-26T16:22:23.267064Z"
    }
   },
   "id": "73d300d1efe9236f"
  },
  {
   "cell_type": "markdown",
   "source": [
    "## Search function\n",
    "This is a function to implement a search for set covering \n",
    "It allows to specify both the data structure on which to memorize the frontier and the priority function to use on that."
   ],
   "metadata": {
    "collapsed": false
   },
   "id": "80c5abe0a90dd3c0"
  },
  {
   "cell_type": "code",
   "execution_count": 195,
   "outputs": [],
   "source": [
    "def set_covering_search(state=None, frontier=None, priority_func= None):\n",
    "    \n",
    "    if state is None:\n",
    "        state = State(set(), set(range(NUM_SETS)))\n",
    "    if frontier is None:\n",
    "        frontier = PriorityQueue()\n",
    "    if priority_func is None:\n",
    "        priority_func = lambda _: None\n",
    "        \n",
    "    frontier.put((priority_func(state), state))\n",
    "    counter = 0\n",
    "    _, current_state = frontier.get()\n",
    "    while not goal_check(current_state):\n",
    "        counter += 1\n",
    "        for action in current_state[1]:\n",
    "            new_state = State(\n",
    "                current_state.taken ^ {action},\n",
    "                current_state.not_taken ^ {action},\n",
    "            )\n",
    "            frontier.put((priority_func(new_state), new_state))\n",
    "        _, current_state = frontier.get()\n",
    "    \n",
    "    print(\n",
    "        f\"Solved in {counter:,} steps ({len(current_state.taken)} tiles)\"\n",
    "    )\n",
    "    print(f\"Solution: {current_state}\")"
   ],
   "metadata": {
    "collapsed": false,
    "ExecuteTime": {
     "end_time": "2023-10-26T16:22:23.301973Z",
     "start_time": "2023-10-26T16:22:23.273514Z"
    }
   },
   "id": "385717632e3d448f"
  },
  {
   "cell_type": "code",
   "execution_count": 196,
   "outputs": [
    {
     "name": "stdout",
     "output_type": "stream",
     "text": [
      "Breadth-first search\n",
      "Solved in 72,423 steps (3 tiles)\n",
      "Solution: State(taken={96, 43, 6}, not_taken={0, 1, 2, 3, 4, 5, 7, 8, 9, 10, 11, 12, 13, 14, 15, 16, 17, 18, 19, 20, 21, 22, 23, 24, 25, 26, 27, 28, 29, 30, 31, 32, 33, 34, 35, 36, 37, 38, 39, 40, 41, 42, 44, 45, 46, 47, 48, 49, 50, 51, 52, 53, 54, 55, 56, 57, 58, 59, 60, 61, 62, 63, 64, 65, 66, 67, 68, 69, 70, 71, 72, 73, 74, 75, 76, 77, 78, 79, 80, 81, 82, 83, 84, 85, 86, 87, 88, 89, 90, 91, 92, 93, 94, 95, 97, 98, 99})\n",
      "Depth-first search\n",
      "Solved in 7 steps (7 tiles)\n",
      "Solution: State(taken={96, 97, 98, 99, 93, 94, 95}, not_taken={0, 1, 2, 3, 4, 5, 6, 7, 8, 9, 10, 11, 12, 13, 14, 15, 16, 17, 18, 19, 20, 21, 22, 23, 24, 25, 26, 27, 28, 29, 30, 31, 32, 33, 34, 35, 36, 37, 38, 39, 40, 41, 42, 43, 44, 45, 46, 47, 48, 49, 50, 51, 52, 53, 54, 55, 56, 57, 58, 59, 60, 61, 62, 63, 64, 65, 66, 67, 68, 69, 70, 71, 72, 73, 74, 75, 76, 77, 78, 79, 80, 81, 82, 83, 84, 85, 86, 87, 88, 89, 90, 91, 92})\n",
      "Greedy best-first search\n",
      "Solved in 3 steps (3 tiles)\n",
      "Solution: State(taken={8, 33, 60}, not_taken={0, 1, 2, 3, 4, 5, 6, 7, 9, 10, 11, 12, 13, 14, 15, 16, 17, 18, 19, 20, 21, 22, 23, 24, 25, 26, 27, 28, 29, 30, 31, 32, 34, 35, 36, 37, 38, 39, 40, 41, 42, 43, 44, 45, 46, 47, 48, 49, 50, 51, 52, 53, 54, 55, 56, 57, 58, 59, 61, 62, 63, 64, 65, 66, 67, 68, 69, 70, 71, 72, 73, 74, 75, 76, 77, 78, 79, 80, 81, 82, 83, 84, 85, 86, 87, 88, 89, 90, 91, 92, 93, 94, 95, 96, 97, 98, 99})\n"
     ]
    }
   ],
   "source": [
    "print(\"Breadth-first search\")\n",
    "set_covering_search(frontier=SimpleQueue())\n",
    "print(\"Depth-first search\")\n",
    "set_covering_search(frontier=LifoQueue())\n",
    "print(\"Greedy best-first search\")\n",
    "set_covering_search(frontier=PriorityQueue(), priority_func=distance)"
   ],
   "metadata": {
    "collapsed": false,
    "ExecuteTime": {
     "end_time": "2023-10-26T16:26:05.389066Z",
     "start_time": "2023-10-26T16:22:23.992739Z"
    }
   },
   "id": "6957bf059722d115"
  },
  {
   "cell_type": "markdown",
   "source": [
    "## Lab 1\n",
    "To address the lab1 request to make an A* search algorithm, the 2 functions to define the estimated cost for each node are:\n",
    "* $ h(n) $: heuristic function that compute the cost to get from the actual node n to the goal state. it is required that it computes an optimistic previsions w.r.t the effective distance from the goal.\n",
    "* $ g(n) $: actual cost function that compute the cost to reach the actual node n; the 'count_taken_sets' is used for that\n",
    "\n",
    "The resulting priority function according to the queue is ordered is $ f(n) =  h(n) + g(n) $ \n",
    "\n",
    "### Considerations\n",
    "* Initially, I tried to use the 'distance' function as a heuristic function, but the execution showed that it is pessimistic compared to the real distance to the goal:\n",
    "    * Given n missing positions, this heuristic states that we will need at least n more sets to cover them, which is a way of saying that a set can cover at most one position\n",
    "    *  Below the execution having the distance function as a heuristic that shows how using a pessimistic function does not allow for much improvement w.r.t. the Greedy best-first strategy and does not provide always an optimal solution, despite it is quite fast"
   ],
   "metadata": {
    "collapsed": false
   },
   "id": "14bb1dfc4387358c"
  },
  {
   "cell_type": "code",
   "execution_count": 197,
   "outputs": [
    {
     "name": "stdout",
     "output_type": "stream",
     "text": [
      "A* search with pessimistic function\n",
      "Solved in 3 steps (3 tiles)\n",
      "Solution: State(taken={8, 33, 60}, not_taken={0, 1, 2, 3, 4, 5, 6, 7, 9, 10, 11, 12, 13, 14, 15, 16, 17, 18, 19, 20, 21, 22, 23, 24, 25, 26, 27, 28, 29, 30, 31, 32, 34, 35, 36, 37, 38, 39, 40, 41, 42, 43, 44, 45, 46, 47, 48, 49, 50, 51, 52, 53, 54, 55, 56, 57, 58, 59, 61, 62, 63, 64, 65, 66, 67, 68, 69, 70, 71, 72, 73, 74, 75, 76, 77, 78, 79, 80, 81, 82, 83, 84, 85, 86, 87, 88, 89, 90, 91, 92, 93, 94, 95, 96, 97, 98, 99})\n"
     ]
    }
   ],
   "source": [
    "print(\"A* search with pessimistic function\")\n",
    "set_covering_search(frontier=PriorityQueue(), priority_func=lambda state: count_taken_sets(state) + distance(state))"
   ],
   "metadata": {
    "collapsed": false,
    "ExecuteTime": {
     "end_time": "2023-10-26T16:26:05.396063Z",
     "start_time": "2023-10-26T16:26:05.369569Z"
    }
   },
   "id": "bbd19a720c519b36"
  },
  {
   "cell_type": "markdown",
   "source": [
    "* Below there are 3 optimistic heuristic functions proposed in class by the Professor"
   ],
   "metadata": {
    "collapsed": false
   },
   "id": "944da099c027f959"
  },
  {
   "cell_type": "code",
   "execution_count": 198,
   "outputs": [
    {
     "name": "stdout",
     "output_type": "stream",
     "text": [
      "A* search with h\n",
      "Solved in 619 steps (3 tiles)\n",
      "Solution: State(taken={72, 33, 39}, not_taken={0, 1, 2, 3, 4, 5, 6, 7, 8, 9, 10, 11, 12, 13, 14, 15, 16, 17, 18, 19, 20, 21, 22, 23, 24, 25, 26, 27, 28, 29, 30, 31, 32, 34, 35, 36, 37, 38, 40, 41, 42, 43, 44, 45, 46, 47, 48, 49, 50, 51, 52, 53, 54, 55, 56, 57, 58, 59, 60, 61, 62, 63, 64, 65, 66, 67, 68, 69, 70, 71, 73, 74, 75, 76, 77, 78, 79, 80, 81, 82, 83, 84, 85, 86, 87, 88, 89, 90, 91, 92, 93, 94, 95, 96, 97, 98, 99})\n",
      "A* search with h2\n",
      "Solved in 40 steps (3 tiles)\n",
      "Solution: State(taken={33, 83, 61}, not_taken={0, 1, 2, 3, 4, 5, 6, 7, 8, 9, 10, 11, 12, 13, 14, 15, 16, 17, 18, 19, 20, 21, 22, 23, 24, 25, 26, 27, 28, 29, 30, 31, 32, 34, 35, 36, 37, 38, 39, 40, 41, 42, 43, 44, 45, 46, 47, 48, 49, 50, 51, 52, 53, 54, 55, 56, 57, 58, 59, 60, 62, 63, 64, 65, 66, 67, 68, 69, 70, 71, 72, 73, 74, 75, 76, 77, 78, 79, 80, 81, 82, 84, 85, 86, 87, 88, 89, 90, 91, 92, 93, 94, 95, 96, 97, 98, 99})\n",
      "A* search with h3\n",
      "Solved in 40 steps (3 tiles)\n",
      "Solution: State(taken={33, 83, 61}, not_taken={0, 1, 2, 3, 4, 5, 6, 7, 8, 9, 10, 11, 12, 13, 14, 15, 16, 17, 18, 19, 20, 21, 22, 23, 24, 25, 26, 27, 28, 29, 30, 31, 32, 34, 35, 36, 37, 38, 39, 40, 41, 42, 43, 44, 45, 46, 47, 48, 49, 50, 51, 52, 53, 54, 55, 56, 57, 58, 59, 60, 62, 63, 64, 65, 66, 67, 68, 69, 70, 71, 72, 73, 74, 75, 76, 77, 78, 79, 80, 81, 82, 84, 85, 86, 87, 88, 89, 90, 91, 92, 93, 94, 95, 96, 97, 98, 99})\n"
     ]
    }
   ],
   "source": [
    "from math import ceil\n",
    "\n",
    "\n",
    "def h(state):\n",
    "    largest_set_size = max(sum(s) for s in SETS)\n",
    "    missing_size = PROBLEM_SIZE - sum(covered(state))\n",
    "    optimistic_estimate = ceil(missing_size / largest_set_size)\n",
    "    return optimistic_estimate\n",
    "\n",
    "\n",
    "def h2(state):\n",
    "    already_covered = covered(state)\n",
    "    if np.all(already_covered):\n",
    "        return 0\n",
    "    largest_set_size = max(sum(np.logical_and(s, np.logical_not(already_covered))) for s in SETS)\n",
    "    missing_size = PROBLEM_SIZE - sum(already_covered)\n",
    "    optimistic_estimate = ceil(missing_size / largest_set_size)\n",
    "    return optimistic_estimate\n",
    "\n",
    "\n",
    "def h3(state):\n",
    "    already_covered = covered(state)\n",
    "    if np.all(already_covered):\n",
    "        return 0\n",
    "    missing_size = PROBLEM_SIZE - sum(already_covered)\n",
    "    candidates = sorted((sum(np.logical_and(s, np.logical_not(already_covered))) for s in SETS), reverse=True)\n",
    "    taken = 1\n",
    "    while sum(candidates[:taken]) < missing_size:\n",
    "        taken += 1\n",
    "    return taken \n",
    "\n",
    "print(\"A* search with h\")\n",
    "set_covering_search(frontier=PriorityQueue(), priority_func=lambda state: count_taken_sets(state) + h(state))\n",
    "print(\"A* search with h2\")\n",
    "set_covering_search(frontier=PriorityQueue(), priority_func=lambda state: count_taken_sets(state) + h2(state))\n",
    "print(\"A* search with h3\")\n",
    "set_covering_search(frontier=PriorityQueue(), priority_func=lambda state: count_taken_sets(state) + h3(state))\n",
    "\n"
   ],
   "metadata": {
    "collapsed": false,
    "ExecuteTime": {
     "end_time": "2023-10-26T16:26:18.623740Z",
     "start_time": "2023-10-26T16:26:05.409321Z"
    }
   },
   "id": "1ffacba442593184"
  },
  {
   "cell_type": "markdown",
   "source": [
    "* Then i tried to improve the heuristic function proposed by the professor by changing the number of sets considered to compute the candidates list in the h3 function, by remove all the sets that are already taken since their value is equal to 0 "
   ],
   "metadata": {
    "collapsed": false
   },
   "id": "549471b5aa1d8beb"
  },
  {
   "cell_type": "code",
   "execution_count": 199,
   "outputs": [],
   "source": [
    "def h3_improved(state):\n",
    "    already_covered = covered(state)\n",
    "    if np.all(already_covered):\n",
    "        return 0\n",
    "    missing_size = PROBLEM_SIZE - sum(already_covered)\n",
    "    candidates = sorted((sum(np.logical_and(SETS[s], np.logical_not(already_covered))) for s in state.not_taken), reverse=True)\n",
    "    taken = 1\n",
    "    while sum(candidates[:taken]) < missing_size:\n",
    "        taken += 1\n",
    "    return taken"
   ],
   "metadata": {
    "collapsed": false,
    "ExecuteTime": {
     "end_time": "2023-10-26T16:26:18.623882Z",
     "start_time": "2023-10-26T16:26:18.621702Z"
    }
   },
   "id": "faf1f8948bdda961"
  },
  {
   "cell_type": "markdown",
   "source": [
    "* Below I make a comparison considering a bigger PROBLEM_SIZE"
   ],
   "metadata": {
    "collapsed": false
   },
   "id": "86ecf170aedf0c63"
  },
  {
   "cell_type": "code",
   "execution_count": 200,
   "outputs": [
    {
     "name": "stdout",
     "output_type": "stream",
     "text": [
      "A* search with h3\n",
      "Solved in 664 steps (4 tiles)\n",
      "Solution: State(taken={81, 66, 74, 5}, not_taken={0, 1, 2, 3, 4, 6, 7, 8, 9, 10, 11, 12, 13, 14, 15, 16, 17, 18, 19, 20, 21, 22, 23, 24, 25, 26, 27, 28, 29, 30, 31, 32, 33, 34, 35, 36, 37, 38, 39, 40, 41, 42, 43, 44, 45, 46, 47, 48, 49, 50, 51, 52, 53, 54, 55, 56, 57, 58, 59, 60, 61, 62, 63, 64, 65, 67, 68, 69, 70, 71, 72, 73, 75, 76, 77, 78, 79, 80, 82, 83, 84, 85, 86, 87, 88, 89, 90, 91, 92, 93, 94, 95, 96, 97, 98, 99})\n",
      "Execution time of A* search with h3 not improved: 19.107330083847046\n",
      "A* search with h3 improved\n",
      "Solved in 664 steps (4 tiles)\n",
      "Solution: State(taken={81, 66, 74, 5}, not_taken={0, 1, 2, 3, 4, 6, 7, 8, 9, 10, 11, 12, 13, 14, 15, 16, 17, 18, 19, 20, 21, 22, 23, 24, 25, 26, 27, 28, 29, 30, 31, 32, 33, 34, 35, 36, 37, 38, 39, 40, 41, 42, 43, 44, 45, 46, 47, 48, 49, 50, 51, 52, 53, 54, 55, 56, 57, 58, 59, 60, 61, 62, 63, 64, 65, 67, 68, 69, 70, 71, 72, 73, 75, 76, 77, 78, 79, 80, 82, 83, 84, 85, 86, 87, 88, 89, 90, 91, 92, 93, 94, 95, 96, 97, 98, 99})\n",
      "Execution time of A* search with h3 improved: 18.70634698867798\n"
     ]
    }
   ],
   "source": [
    "import time\n",
    "\n",
    "PROBLEM_SIZE = 30\n",
    "NUM_SETS = 100\n",
    "SET_PROBABILITY = 0.3\n",
    "SETS = tuple(\n",
    "    np.array([random() <SET_PROBABILITY for _ in range(PROBLEM_SIZE)])\n",
    "    for _ in range(NUM_SETS)\n",
    ")\n",
    "\n",
    "assert goal_check(\n",
    "    State(set(range(NUM_SETS)), set())\n",
    "), \"Probelm not solvable\"\n",
    "\n",
    "print(\"A* search with h3\")\n",
    "start_time = time.time()\n",
    "set_covering_search(frontier=PriorityQueue(), priority_func=lambda state: count_taken_sets(state) + h3(state))\n",
    "print(f\"Execution time of A* search with h3 not improved: {time.time() - start_time}\")\n",
    "print(\"A* search with h3 improved\")\n",
    "start_time = time.time()\n",
    "set_covering_search(frontier=PriorityQueue(), priority_func=lambda state: count_taken_sets(state) + h3_improved(state))\n",
    "print(f\"Execution time of A* search with h3 improved: {time.time() - start_time}\")\n"
   ],
   "metadata": {
    "collapsed": false,
    "ExecuteTime": {
     "end_time": "2023-10-26T16:26:56.442323Z",
     "start_time": "2023-10-26T16:26:18.672531Z"
    }
   },
   "id": "929066394b6ec5b2"
  },
  {
   "cell_type": "markdown",
   "source": [
    "* The improvement lead to a minor computation time w.r.t. to the old h3 despite the result is the same for both. Obviously to be the improvement remarkable is necessary to test over very larges PROBLEM_SIZES and NUM_SETS\n"
   ],
   "metadata": {
    "collapsed": false
   },
   "id": "6ee76330e2715be0"
  }
 ],
 "metadata": {
  "kernelspec": {
   "display_name": "Python 3",
   "language": "python",
   "name": "python3"
  },
  "language_info": {
   "codemirror_mode": {
    "name": "ipython",
    "version": 2
   },
   "file_extension": ".py",
   "mimetype": "text/x-python",
   "name": "python",
   "nbconvert_exporter": "python",
   "pygments_lexer": "ipython2",
   "version": "2.7.6"
  }
 },
 "nbformat": 4,
 "nbformat_minor": 5
}
