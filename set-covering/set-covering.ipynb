{
 "cells": [
  {},
  {
   "cell_type": "code",
   "execution_count": 325,
   "metadata": {
    "ExecuteTime": {
     "end_time": "2023-10-22T15:37:43.244923Z",
     "start_time": "2023-10-22T15:37:43.239536Z"
    }
   },
   "outputs": [],
   "source": [
    "from random import random\n",
    "from functools import reduce\n",
    "from collections import namedtuple\n",
    "from queue import PriorityQueue, SimpleQueue, LifoQueue\n",
    "import numpy as np"
   ]
  },
  {
   "cell_type": "code",
   "execution_count": 326,
   "metadata": {
    "ExecuteTime": {
     "end_time": "2023-10-22T15:37:43.245461Z",
     "start_time": "2023-10-22T15:37:43.242775Z"
    }
   },
   "outputs": [],
   "source": [
    "PROBLEM_SIZE = 5\n",
    "NUM_SETS = 10\n",
    "SET_PROBABILITY = 0.3\n",
    "SETS = tuple(\n",
    "    np.array([random() <SET_PROBABILITY for _ in range(PROBLEM_SIZE)])\n",
    "    for _ in range(NUM_SETS)\n",
    ")\n",
    "State = namedtuple('State', ['taken', 'not_taken'])"
   ]
  },
  {
   "cell_type": "code",
   "execution_count": 327,
   "metadata": {
    "ExecuteTime": {
     "end_time": "2023-10-22T15:37:43.256424Z",
     "start_time": "2023-10-22T15:37:43.244905Z"
    }
   },
   "outputs": [],
   "source": [
    "def goal_check(state):\n",
    "    return np.all(reduce(\n",
    "        np.logical_or,\n",
    "        [SETS[i] for i in state.taken],\n",
    "        np.array([False for _ in range(PROBLEM_SIZE)]),\n",
    "    ))\n",
    "\n",
    "def distance(state):\n",
    "    return PROBLEM_SIZE - sum(\n",
    "        reduce(\n",
    "            np.logical_or,\n",
    "            [SETS[i] for i in state.taken],\n",
    "            np.array([False for _ in range(PROBLEM_SIZE)]),\n",
    "        ))\n",
    "\n",
    "def count_taken_sets(state):\n",
    "    return len(state.taken)\n",
    "\n"
   ]
  },
  {
   "cell_type": "code",
   "execution_count": 100,
   "metadata": {
    "ExecuteTime": {
     "end_time": "2023-10-22T15:29:25.167712Z",
     "start_time": "2023-10-22T15:29:25.165166Z"
    }
   },
   "outputs": [],
   "source": [
    "assert goal_check(\n",
    "    State(set(range(NUM_SETS)), set())\n",
    "), \"Probelm not solvable\""
   ]
  },
  {
   "cell_type": "code",
   "execution_count": 328,
   "metadata": {
    "ExecuteTime": {
     "end_time": "2023-10-22T15:37:43.256972Z",
     "start_time": "2023-10-22T15:37:43.249259Z"
    }
   },
   "outputs": [],
   "source": [
    "# frontier = PriorityQueue()\n",
    "frontier = SimpleQueue()\n",
    "state = State(set(), set(range(NUM_SETS)))\n",
    "frontier.put((distance(state), state))\n",
    "\n",
    "counter = 0\n",
    "_, current_state = frontier.get()\n",
    "while not goal_check(current_state):\n",
    "    counter += 1\n",
    "    for action in current_state[1]:\n",
    "        new_state = State(\n",
    "            current_state.taken ^ {action},\n",
    "            current_state.not_taken ^ {action},\n",
    "        )\n",
    "        frontier.put((distance(new_state), new_state))\n",
    "    _, current_state = frontier.get()\n",
    "\n",
    "print(\n",
    "    f\"Solved in {counter:,} steps ({len(current_state.taken)} tiles)\"\n",
    ")"
   ]
  },
  {
   "cell_type": "markdown",
   "source": [
    "This is a function to implement a simple search without priority for set covering, allowing to specify just the data structure on which to memorize the frontier.\n",
    "A SimpleQueue corresponds to a Breadth-first search.\n",
    "A LifoQueue corresponds to a Depth-first search."
   ],
   "metadata": {
    "collapsed": false,
    "ExecuteTime": {
     "end_time": "2023-10-22T15:37:25.263104Z",
     "start_time": "2023-10-22T15:37:25.249870Z"
    }
   }
  },
  {
   "cell_type": "code",
   "execution_count": 329,
   "outputs": [
    {
     "name": "stdout",
     "output_type": "stream",
     "text": [
      "Breadth-first search\n",
      "Solved in 13 steps (2 tiles)\n",
      "Solution: State(taken={1, 2}, not_taken={0, 3, 4, 5})\n",
      "Depth-first search\n",
      "Solved in 3 steps (3 tiles)\n",
      "Solution: State(taken={3, 4, 5}, not_taken={0, 1, 2})\n",
      "Greedy best-first search\n",
      "Solved in 2 steps (2 tiles)\n",
      "Solution: State(taken={1, 2}, not_taken={0, 3, 4, 5})\n",
      "A* search\n",
      "Solved in 3 steps (2 tiles)\n",
      "Solution: State(taken={1, 2}, not_taken={0, 3, 4, 5})\n"
     ]
    }
   ],
   "source": [
    "def set_covering_basic_search(current_state, frontier=SimpleQueue()):\n",
    "    \n",
    "    frontier.put(current_state)\n",
    "    counter = 0\n",
    "    current_state = frontier.get()\n",
    "    while not goal_check(current_state):\n",
    "        counter += 1\n",
    "        for action in current_state[1]:\n",
    "            new_state = State(\n",
    "                current_state.taken ^ {action},\n",
    "                current_state.not_taken ^ {action},\n",
    "            )\n",
    "            frontier.put(new_state)\n",
    "        current_state = frontier.get()\n",
    "    \n",
    "    print(\n",
    "        f\"Solved in {counter:,} steps ({len(current_state.taken)} tiles)\"\n",
    "    )\n",
    "    print(f\"Solution: {current_state}\")"
   ],
   "metadata": {
    "collapsed": false,
    "ExecuteTime": {
     "end_time": "2023-10-22T15:37:43.266032Z",
     "start_time": "2023-10-22T15:37:43.252142Z"
    }
   }
  },
  {
   "cell_type": "code",
   "execution_count": 323,
   "metadata": {
    "ExecuteTime": {
     "end_time": "2023-10-22T15:37:25.263284Z",
     "start_time": "2023-10-22T15:37:25.252014Z"
    }
   },
   "outputs": [
    {
     "name": "stdout",
     "output_type": "stream",
     "text": [
      "A* search\n",
      "Solved in 4 steps (2 tiles)\n",
      "Solution: State(taken={3, 4}, not_taken={0, 1, 2, 5})\n"
     ]
    }
   ],
   "source": [
    "current_state = State(set(), set(range(NUM_SETS)))\n",
    "print(\"Breadth-first search using SimpleQueue\")\n",
    "set_covering_basic_search(current_state)\n",
    "print(\"Depth-first search using LifoQueue\")\n",
    "set_covering_basic_search(current_state, LifoQueue())"
   ]
  },
  {
   "cell_type": "code",
   "execution_count": 259,
   "metadata": {
    "ExecuteTime": {
     "end_time": "2023-10-22T15:35:05.965452Z",
     "start_time": "2023-10-22T15:35:05.950290Z"
    }
   },
   "outputs": [],
   "source": [
    "SETS"
   ]
  },
  {
   "cell_type": "markdown",
   "source": [
    "This is a priority search function that allows to specify the priority function passed to establish the order of the element memorized in a priority queue\n",
    "If the function is not specified , it is used a simple function that compute the distance from the actual state to the goal state, resulting in a greedy best first search strategy"
   ],
   "metadata": {
    "collapsed": false,
    "ExecuteTime": {
     "end_time": "2023-10-22T15:35:06.461824Z",
     "start_time": "2023-10-22T15:35:06.447991Z"
    }
   }
  },
  {
   "cell_type": "code",
   "execution_count": 259,
   "outputs": [],
   "source": [
    "def set_covering_priority_search(current_state, priority_func=distance):\n",
    "    \n",
    "    frontier = PriorityQueue()\n",
    "    state = State(set(), set(range(NUM_SETS)))\n",
    "    frontier.put((priority_func(state), state))\n",
    "    \n",
    "    counter = 0\n",
    "    _, current_state = frontier.get()\n",
    "    while not goal_check(current_state):\n",
    "        counter += 1\n",
    "        for action in current_state[1]:\n",
    "            new_state = State(\n",
    "                current_state.taken ^ {action},\n",
    "                current_state.not_taken ^ {action},\n",
    "            )\n",
    "            frontier.put((priority_func(new_state), new_state))\n",
    "        _, current_state = frontier.get()\n",
    "    \n",
    "    print(\n",
    "        f\"Solved in {counter:,} steps ({len(current_state.taken)} tiles)\"\n",
    "    )\n",
    "    print(f\"Solution: {current_state}\")"
   ],
   "metadata": {
    "collapsed": false,
    "ExecuteTime": {
     "end_time": "2023-10-22T15:35:06.542732Z",
     "start_time": "2023-10-22T15:35:06.532741Z"
    }
   }
  },
  {
   "cell_type": "code",
   "execution_count": null,
   "outputs": [],
   "source": [
    "current_state = State(set(), set(range(NUM_SETS)))\n",
    "print(\"Greedy Best-first search\")\n",
    "set_covering_priority_search(current_state)\n",
    "print(\"custom example\")\n",
    "set_covering_priority_search(current_state, priority_func=count_taken_sets)\n"
   ],
   "metadata": {
    "collapsed": false,
    "ExecuteTime": {
     "start_time": "2023-10-22T15:15:52.934863Z"
    }
   }
  },
  {
   "cell_type": "code",
   "execution_count": 83,
   "outputs": [],
   "source": [],
   "metadata": {
    "collapsed": false,
    "ExecuteTime": {
     "end_time": "2023-10-22T14:27:47.291001Z",
     "start_time": "2023-10-22T14:27:47.288332Z"
    }
   }
  },
  {
   "cell_type": "code",
   "execution_count": 84,
   "outputs": [
    {
     "name": "stdout",
     "output_type": "stream",
     "text": [
      "State(taken=set(), not_taken={0, 1, 2, 3, 4})\n",
      "Breadth-first search 1\n",
      "Solved in 4 steps (3 tiles)\n",
      "Solution: State(taken={0, 1, 4}, not_taken={2, 3})\n",
      "Depth-first search using LifoQueue 1\n",
      "Solved in 4 steps (4 tiles)\n",
      "Solution: State(taken={1, 2, 3, 4}, not_taken={0})\n",
      "Greedy Best-first search 1\n",
      "Solved in 2 steps (2 tiles)\n",
      "Solution: State(taken={1, 4}, not_taken={0, 2, 3})\n",
      "Breadth-first search 2\n",
      "Solved in 13 steps (2 tiles)\n",
      "Solution: State(taken={1, 4}, not_taken={0, 2, 3})\n",
      "Depth-first search using LifoQueue 2\n",
      "Solved in 4 steps (4 tiles)\n",
      "Solution: State(taken={1, 2, 3, 4}, not_taken={0})\n",
      "Greedy Best-first search 2\n",
      "Solved in 2 steps (2 tiles)\n",
      "Solution: State(taken={1, 4}, not_taken={0, 2, 3})\n"
     ]
    }
   ],
   "source": [
    "def set_covering_search(current_state, frontier=None, priority_func= None):\n",
    "    \n",
    "    if frontier is None:\n",
    "        frontier = PriorityQueue()\n",
    "    if priority_func is None:\n",
    "        priority_func = lambda _: None\n",
    "    state = State(set(), set(range(NUM_SETS)))\n",
    "    frontier.put((priority_func(state), state))\n",
    "    \n",
    "    counter = 0\n",
    "    _, current_state = frontier.get()\n",
    "    while not goal_check(current_state):\n",
    "        counter += 1\n",
    "        for action in current_state[1]:\n",
    "            new_state = State(\n",
    "                current_state.taken ^ {action},\n",
    "                current_state.not_taken ^ {action},\n",
    "            )\n",
    "            frontier.put((priority_func(new_state), new_state))\n",
    "        _, current_state = frontier.get()\n",
    "    \n",
    "    print(\n",
    "        f\"Solved in {counter:,} steps ({len(current_state.taken)} tiles)\"\n",
    "    )\n",
    "    print(f\"Solution: {current_state}\")"
   ],
   "metadata": {
    "collapsed": false,
    "ExecuteTime": {
     "end_time": "2023-10-22T14:27:49.094776Z",
     "start_time": "2023-10-22T14:27:49.092021Z"
    }
   }
  },
  {
   "cell_type": "code",
   "execution_count": 82,
   "outputs": [],
   "source": [],
   "metadata": {
    "collapsed": false,
    "ExecuteTime": {
     "end_time": "2023-10-22T14:21:56.029830Z",
     "start_time": "2023-10-22T14:21:56.013377Z"
    }
   }
  }
 ],
 "metadata": {
  "kernelspec": {
   "display_name": "ci-P-7LqQ3C-py3.11",
   "language": "python",
   "name": "python3"
  },
  "language_info": {
   "codemirror_mode": {
    "name": "ipython",
    "version": 3
   },
   "file_extension": ".py",
   "mimetype": "text/x-python",
   "name": "python",
   "nbconvert_exporter": "python",
   "pygments_lexer": "ipython3",
   "version": "3.11.2"
  }
 },
 "nbformat": 4,
 "nbformat_minor": 2
}
