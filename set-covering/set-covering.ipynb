{
 "cells": [
  {
   "cell_type": "markdown",
   "source": [
    "# Set covering implementation"
   ],
   "metadata": {
    "collapsed": false
   },
   "id": "b47dd4ecab642209"
  },
  {
   "cell_type": "code",
   "execution_count": 81,
   "outputs": [],
   "source": [
    "from random import random\n",
    "from functools import reduce\n",
    "from collections import namedtuple\n",
    "from queue import PriorityQueue, SimpleQueue, LifoQueue\n",
    "import numpy as np"
   ],
   "metadata": {
    "collapsed": false,
    "ExecuteTime": {
     "end_time": "2023-10-22T21:35:20.623851Z",
     "start_time": "2023-10-22T21:35:20.605980Z"
    }
   },
   "id": "initial_id"
  },
  {
   "cell_type": "code",
   "execution_count": 82,
   "outputs": [
    {
     "name": "stdout",
     "output_type": "stream",
     "text": [
      "(array([False, False, False, False,  True]), array([ True,  True, False, False,  True]), array([False,  True, False,  True,  True]), array([False, False,  True, False, False]), array([False, False, False, False, False]), array([False, False, False,  True, False]), array([ True, False,  True, False, False]), array([False, False, False, False, False]), array([False,  True, False, False, False]), array([False, False,  True, False, False]))\n"
     ]
    }
   ],
   "source": [
    "PROBLEM_SIZE = 5\n",
    "NUM_SETS = 10\n",
    "SET_PROBABILITY = 0.3\n",
    "SETS = tuple(\n",
    "    np.array([random() <SET_PROBABILITY for _ in range(PROBLEM_SIZE)])\n",
    "    for _ in range(NUM_SETS)\n",
    ")\n",
    "State = namedtuple('State', ['taken', 'not_taken'])\n",
    "\n",
    "print(SETS)"
   ],
   "metadata": {
    "collapsed": false,
    "ExecuteTime": {
     "end_time": "2023-10-22T21:35:20.634570Z",
     "start_time": "2023-10-22T21:35:20.609935Z"
    }
   },
   "id": "fc6ba90f45436d0c"
  },
  {
   "cell_type": "markdown",
   "source": [
    "## Utility functions\n",
    "These are utility functions:\n",
    "* goal_check: check if the current state covers all the positions\n",
    "* distance: compute how many positions are covered by the current set\n",
    "* count_taken_sets: count the actual number of positions covered by the set"
   ],
   "metadata": {
    "collapsed": false
   },
   "id": "ace4dc0a4c7fc5ba"
  },
  {
   "cell_type": "code",
   "execution_count": 83,
   "outputs": [],
   "source": [
    "def goal_check(state):\n",
    "    return np.all(reduce(\n",
    "        np.logical_or,\n",
    "        [SETS[i] for i in state.taken],\n",
    "        np.array([False for _ in range(PROBLEM_SIZE)]),\n",
    "    ))\n",
    "\n",
    "def distance(state):\n",
    "    return PROBLEM_SIZE - sum(\n",
    "        reduce(\n",
    "            np.logical_or,\n",
    "            [SETS[i] for i in state.taken],\n",
    "            np.array([False for _ in range(PROBLEM_SIZE)]),\n",
    "        ))\n",
    "\n",
    "def count_taken_sets(state):\n",
    "    return len(state.taken)\n",
    "\n",
    "assert goal_check(\n",
    "    State(set(range(NUM_SETS)), set())\n",
    "), \"Probelm not solvable\"\n"
   ],
   "metadata": {
    "collapsed": false,
    "ExecuteTime": {
     "end_time": "2023-10-22T21:35:20.636560Z",
     "start_time": "2023-10-22T21:35:20.613904Z"
    }
   },
   "id": "73d300d1efe9236f"
  },
  {
   "cell_type": "markdown",
   "source": [
    "## Search function\n",
    "This is a function to implement a search for set covering \n",
    "It allows to specify both the data structure on which to memorize the frontier and the priority function to use on that."
   ],
   "metadata": {
    "collapsed": false
   },
   "id": "80c5abe0a90dd3c0"
  },
  {
   "cell_type": "code",
   "execution_count": 84,
   "outputs": [],
   "source": [
    "def set_covering_search(state=None, frontier=None, priority_func= None):\n",
    "    \n",
    "    if state is None:\n",
    "        state = State(set(), set(range(NUM_SETS)))\n",
    "    if frontier is None:\n",
    "        frontier = PriorityQueue()\n",
    "    if priority_func is None:\n",
    "        priority_func = lambda _: None\n",
    "        \n",
    "    frontier.put((priority_func(state), state))\n",
    "    counter = 0\n",
    "    _, current_state = frontier.get()\n",
    "    while not goal_check(current_state):\n",
    "        counter += 1\n",
    "        for action in current_state[1]:\n",
    "            new_state = State(\n",
    "                current_state.taken ^ {action},\n",
    "                current_state.not_taken ^ {action},\n",
    "            )\n",
    "            frontier.put((priority_func(new_state), new_state))\n",
    "        _, current_state = frontier.get()\n",
    "    \n",
    "    print(\n",
    "        f\"Solved in {counter:,} steps ({len(current_state.taken)} tiles)\"\n",
    "    )\n",
    "    print(f\"Solution: {current_state}\")"
   ],
   "metadata": {
    "collapsed": false,
    "ExecuteTime": {
     "end_time": "2023-10-22T21:35:20.637927Z",
     "start_time": "2023-10-22T21:35:20.618741Z"
    }
   },
   "id": "385717632e3d448f"
  },
  {
   "cell_type": "code",
   "execution_count": 85,
   "outputs": [
    {
     "name": "stdout",
     "output_type": "stream",
     "text": [
      "Breadth-first search\n",
      "Solved in 34 steps (2 tiles)\n",
      "Solution: State(taken={2, 6}, not_taken={0, 1, 3, 4, 5, 7, 8, 9})\n",
      "Depth-first search\n",
      "Solved in 8 steps (8 tiles)\n",
      "Solution: State(taken={2, 3, 4, 5, 6, 7, 8, 9}, not_taken={0, 1})\n",
      "Greedy best-first search\n",
      "Solved in 3 steps (3 tiles)\n",
      "Solution: State(taken={1, 2, 3}, not_taken={0, 4, 5, 6, 7, 8, 9})\n"
     ]
    }
   ],
   "source": [
    "print(\"Breadth-first search\")\n",
    "set_covering_search(frontier=SimpleQueue())\n",
    "print(\"Depth-first search\")\n",
    "set_covering_search(frontier=LifoQueue())\n",
    "print(\"Greedy best-first search\")\n",
    "set_covering_search(frontier=PriorityQueue(), priority_func=distance)"
   ],
   "metadata": {
    "collapsed": false,
    "ExecuteTime": {
     "end_time": "2023-10-22T21:35:20.646636Z",
     "start_time": "2023-10-22T21:35:20.622408Z"
    }
   },
   "id": "6957bf059722d115"
  },
  {
   "cell_type": "markdown",
   "source": [
    "## Lab 1\n",
    "To address the lab1 request to make an A* search algorithm, the 2 functions to define the estimated cost for each node are:\n",
    "* h(n): heuristic function that compute the cost to get from the actual node n to the goal state; the 'distance' function is used for that\n",
    "* g(n): actual cost function that compute the cost to reach the actual node n; the 'count_taken_sets' is used for that"
   ],
   "metadata": {
    "collapsed": false
   },
   "id": "14bb1dfc4387358c"
  },
  {
   "cell_type": "code",
   "execution_count": 86,
   "outputs": [
    {
     "name": "stdout",
     "output_type": "stream",
     "text": [
      "A* search\n",
      "Solved in 3 steps (2 tiles)\n",
      "Solution: State(taken={2, 6}, not_taken={0, 1, 3, 4, 5, 7, 8, 9})\n"
     ]
    }
   ],
   "source": [
    "print(\"A* search\")\n",
    "set_covering_search(frontier=PriorityQueue(), priority_func=lambda state: count_taken_sets(state) + distance(state))"
   ],
   "metadata": {
    "collapsed": false,
    "ExecuteTime": {
     "end_time": "2023-10-22T21:35:20.647681Z",
     "start_time": "2023-10-22T21:35:20.625320Z"
    }
   },
   "id": "bbd19a720c519b36"
  }
 ],
 "metadata": {
  "kernelspec": {
   "display_name": "Python 3",
   "language": "python",
   "name": "python3"
  },
  "language_info": {
   "codemirror_mode": {
    "name": "ipython",
    "version": 2
   },
   "file_extension": ".py",
   "mimetype": "text/x-python",
   "name": "python",
   "nbconvert_exporter": "python",
   "pygments_lexer": "ipython2",
   "version": "2.7.6"
  }
 },
 "nbformat": 4,
 "nbformat_minor": 5
}
