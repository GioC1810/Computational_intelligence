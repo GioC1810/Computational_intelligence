{
 "cells": [
  {
   "cell_type": "code",
   "execution_count": 41,
   "id": "initial_id",
   "metadata": {
    "collapsed": true,
    "ExecuteTime": {
     "end_time": "2023-10-22T16:01:04.286058Z",
     "start_time": "2023-10-22T16:01:04.274596Z"
    }
   },
   "outputs": [],
   "source": [
    "from random import random\n",
    "from functools import reduce\n",
    "from collections import namedtuple\n",
    "from queue import PriorityQueue, SimpleQueue, LifoQueue\n",
    "import numpy as np"
   ]
  },
  {
   "cell_type": "code",
   "execution_count": 42,
   "outputs": [],
   "source": [
    "PROBLEM_SIZE = 5\n",
    "NUM_SETS = 10\n",
    "SET_PROBABILITY = 0.3\n",
    "SETS = tuple(\n",
    "    np.array([random() <SET_PROBABILITY for _ in range(PROBLEM_SIZE)])\n",
    "    for _ in range(NUM_SETS)\n",
    ")\n",
    "State = namedtuple('State', ['taken', 'not_taken'])"
   ],
   "metadata": {
    "collapsed": false,
    "ExecuteTime": {
     "end_time": "2023-10-22T16:01:04.286251Z",
     "start_time": "2023-10-22T16:01:04.277915Z"
    }
   },
   "id": "fc6ba90f45436d0c"
  },
  {
   "cell_type": "code",
   "execution_count": 43,
   "outputs": [],
   "source": [
    "def goal_check(state):\n",
    "    return np.all(reduce(\n",
    "        np.logical_or,\n",
    "        [SETS[i] for i in state.taken],\n",
    "        np.array([False for _ in range(PROBLEM_SIZE)]),\n",
    "    ))\n",
    "\n",
    "def distance(state):\n",
    "    return PROBLEM_SIZE - sum(\n",
    "        reduce(\n",
    "            np.logical_or,\n",
    "            [SETS[i] for i in state.taken],\n",
    "            np.array([False for _ in range(PROBLEM_SIZE)]),\n",
    "        ))\n",
    "\n",
    "def count_taken_sets(state):\n",
    "    return len(state.taken)\n",
    "\n"
   ],
   "metadata": {
    "collapsed": false,
    "ExecuteTime": {
     "end_time": "2023-10-22T16:01:04.286309Z",
     "start_time": "2023-10-22T16:01:04.281875Z"
    }
   },
   "id": "73d300d1efe9236f"
  },
  {
   "cell_type": "code",
   "execution_count": 44,
   "outputs": [],
   "source": [
    "assert goal_check(\n",
    "    State(set(range(NUM_SETS)), set())\n",
    "), \"Probelm not solvable\""
   ],
   "metadata": {
    "collapsed": false,
    "ExecuteTime": {
     "end_time": "2023-10-22T16:01:04.286345Z",
     "start_time": "2023-10-22T16:01:04.284201Z"
    }
   },
   "id": "bffbb5ce5aee78b4"
  },
  {
   "cell_type": "markdown",
   "source": [
    "This is a function to implement a search for set covering \n",
    "It allows to specify both the data structure on which to memorize the frontier and the priority function to use on that.\n",
    "To address the lab1 request to make an A* search algorithm, the 2 functions to define the estimated cost for each node are:\n",
    "* distance as h(n): heuristic function \n",
    "* count_covered_sets as g(n): actual cost function"
   ],
   "metadata": {
    "collapsed": false
   },
   "id": "80c5abe0a90dd3c0"
  },
  {
   "cell_type": "code",
   "execution_count": 45,
   "outputs": [],
   "source": [
    "def set_covering_search(state=None, frontier=None, priority_func= None):\n",
    "    \n",
    "    if state is None:\n",
    "        state = State(set(), set(range(NUM_SETS)))\n",
    "    if frontier is None:\n",
    "        frontier = PriorityQueue()\n",
    "    if priority_func is None:\n",
    "        priority_func = lambda _: None\n",
    "        \n",
    "    frontier.put((priority_func(state), state))\n",
    "    counter = 0\n",
    "    _, current_state = frontier.get()\n",
    "    while not goal_check(current_state):\n",
    "        counter += 1\n",
    "        for action in current_state[1]:\n",
    "            new_state = State(\n",
    "                current_state.taken ^ {action},\n",
    "                current_state.not_taken ^ {action},\n",
    "            )\n",
    "            frontier.put((priority_func(new_state), new_state))\n",
    "        _, current_state = frontier.get()\n",
    "    \n",
    "    print(\n",
    "        f\"Solved in {counter:,} steps ({len(current_state.taken)} tiles)\"\n",
    "    )\n",
    "    print(f\"Solution: {current_state}\")"
   ],
   "metadata": {
    "collapsed": false,
    "ExecuteTime": {
     "end_time": "2023-10-22T16:01:04.291011Z",
     "start_time": "2023-10-22T16:01:04.288714Z"
    }
   },
   "id": "385717632e3d448f"
  },
  {
   "cell_type": "code",
   "execution_count": 46,
   "outputs": [
    {
     "name": "stdout",
     "output_type": "stream",
     "text": [
      "Breadth-first search\n",
      "Solved in 116 steps (3 tiles)\n",
      "Solution: State(taken={0, 9, 2}, not_taken={1, 3, 4, 5, 6, 7, 8})\n",
      "Depth-first search\n",
      "Solved in 8 steps (8 tiles)\n",
      "Solution: State(taken={2, 3, 4, 5, 6, 7, 8, 9}, not_taken={0, 1})\n",
      "Greedy best-first search\n",
      "Solved in 3 steps (3 tiles)\n",
      "Solution: State(taken={0, 9, 2}, not_taken={1, 3, 4, 5, 6, 7, 8})\n",
      "A* search\n",
      "Solved in 5 steps (3 tiles)\n",
      "Solution: State(taken={0, 9, 2}, not_taken={1, 3, 4, 5, 6, 7, 8})\n"
     ]
    }
   ],
   "source": [
    "print(\"Breadth-first search\")\n",
    "set_covering_search(frontier=SimpleQueue())\n",
    "print(\"Depth-first search\")\n",
    "set_covering_search(frontier=LifoQueue())\n",
    "print(\"Greedy best-first search\")\n",
    "set_covering_search(frontier=PriorityQueue(), priority_func=distance)\n",
    "print(\"A* search\")\n",
    "set_covering_search(frontier=PriorityQueue(), priority_func=lambda state: count_taken_sets(state) + distance(state))"
   ],
   "metadata": {
    "collapsed": false,
    "ExecuteTime": {
     "end_time": "2023-10-22T16:01:04.295071Z",
     "start_time": "2023-10-22T16:01:04.293491Z"
    }
   },
   "id": "6957bf059722d115"
  },
  {
   "cell_type": "code",
   "execution_count": 46,
   "outputs": [],
   "source": [],
   "metadata": {
    "collapsed": false,
    "ExecuteTime": {
     "end_time": "2023-10-22T16:01:04.298895Z",
     "start_time": "2023-10-22T16:01:04.294828Z"
    }
   },
   "id": "2fe10e0026f474af"
  }
 ],
 "metadata": {
  "kernelspec": {
   "display_name": "Python 3",
   "language": "python",
   "name": "python3"
  },
  "language_info": {
   "codemirror_mode": {
    "name": "ipython",
    "version": 2
   },
   "file_extension": ".py",
   "mimetype": "text/x-python",
   "name": "python",
   "nbconvert_exporter": "python",
   "pygments_lexer": "ipython2",
   "version": "2.7.6"
  }
 },
 "nbformat": 4,
 "nbformat_minor": 5
}
