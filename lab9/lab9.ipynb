{
 "cells": [
  {
   "cell_type": "markdown",
   "metadata": {},
   "source": [
    "Copyright **`(c)`** 2023 Giovanni Squillero `<giovanni.squillero@polito.it>`  \n",
    "[`https://github.com/squillero/computational-intelligence`](https://github.com/squillero/computational-intelligence)  \n",
    "Free for personal or classroom use; see [`LICENSE.md`](https://github.com/squillero/computational-intelligence/blob/master/LICENSE.md) for details.  "
   ]
  },
  {
   "cell_type": "markdown",
   "metadata": {},
   "source": [
    "# LAB9\n",
    "\n",
    "Write a local-search algorithm (eg. an EA) able to solve the *Problem* instances 1, 2, 5, and 10 on a 1000-loci genomes, using a minimum number of fitness calls. That's all.\n",
    "\n",
    "### Deadlines:\n",
    "\n",
    "* Submission: Sunday, December 3 ([CET](https://www.timeanddate.com/time/zones/cet))\n",
    "* Reviews: Sunday, December 10 ([CET](https://www.timeanddate.com/time/zones/cet))\n",
    "\n",
    "Notes:\n",
    "\n",
    "* Reviews will be assigned  on Monday, December 4\n",
    "* You need to commit in order to be selected as a reviewer (ie. better to commit an empty work than not to commit)"
   ]
  },
  {
   "cell_type": "code",
   "execution_count": 912,
   "metadata": {
    "ExecuteTime": {
     "end_time": "2023-12-02T15:54:50.587185Z",
     "start_time": "2023-12-02T15:54:50.562454Z"
    }
   },
   "outputs": [],
   "source": [
    "from random import choices, uniform\n",
    "import random\n",
    "from dataclasses import dataclass, field\n",
    "from copy import deepcopy\n",
    "from typing import Callable, List\n",
    "\n",
    "import numpy as np\n",
    "\n",
    "import lab9.lab9_lib as lab9_lib"
   ]
  },
  {
   "cell_type": "code",
   "execution_count": 913,
   "metadata": {
    "ExecuteTime": {
     "end_time": "2023-12-02T15:54:50.587831Z",
     "start_time": "2023-12-02T15:54:50.566878Z"
    }
   },
   "outputs": [
    {
     "name": "stdout",
     "output_type": "stream",
     "text": [
      "11101111111101011111000001100100110111110010100011: 9.11%\n",
      "11001000111011010101101000111111011110001001011011: 9.13%\n",
      "01100001100011111001000000101101100011011110000011: 15.33%\n",
      "01111011100010000011010001111100110001101110010101: 23.34%\n",
      "00010101101001100001010000100110010011110000101011: 7.33%\n",
      "00010011100010010101100010100111011110011101111001: 15.33%\n",
      "10010011010001100010001110011100010111001011011100: 9.14%\n",
      "01101011011011000101011010001100000000101110110110: 7.33%\n",
      "10001010111111110010010111100100101001111110010011: 23.33%\n",
      "01011011011011110001011100011000101111001011111111: 31.33%\n",
      "10\n"
     ]
    }
   ],
   "source": [
    "fitness = lab9_lib.make_problem(10)\n",
    "for n in range(10):\n",
    "    ind = choices([0, 1], k=50)\n",
    "    print(f\"{''.join(str(g) for g in ind)}: {fitness(ind):.2%}\")\n",
    "\n",
    "print(fitness.calls)"
   ]
  },
  {
   "cell_type": "markdown",
   "source": [
    "# Individual\n",
    "It defines the individual of the ES strategy, it is composed by a genome, which is the binary representations with length n:loci an by a fitness score, which is computed using the callable fitness_function passed as parameter\n",
    "# Operator Agent\n",
    "It defines an agent which compute the variation operators and has a global view on the statistics of the operator applied, initially the purpose was to dinamically adapt the parameter that regolates the use of the operators and the parameters, based on the success statistics of the operators (child with a fitness score higher than the parents)"
   ],
   "metadata": {
    "collapsed": false
   }
  },
  {
   "cell_type": "markdown",
   "source": [],
   "metadata": {
    "collapsed": false
   }
  },
  {
   "cell_type": "code",
   "execution_count": 914,
   "metadata": {
    "ExecuteTime": {
     "end_time": "2023-12-02T15:54:50.607822Z",
     "start_time": "2023-12-02T15:54:50.576434Z"
    }
   },
   "outputs": [],
   "source": [
    "@dataclass\n",
    "class Individual:\n",
    "    genome : tuple[int]\n",
    "    n_loci: int\n",
    "    fitness: float\n",
    "    fitness_func: Callable[[tuple[int]], float]\n",
    "    \n",
    "    def __init__(self, FITNESS_FUNC, n_loci, genome = None):\n",
    "        self.n_loci = n_loci\n",
    "        if genome is None:\n",
    "            self.genome = random.choices([0, 1], k=n_loci)\n",
    "        else:\n",
    "            self.genome = genome\n",
    "        self.fitness_func = FITNESS_FUNC\n",
    "        self.fitness = self.fitness_func(self.genome)\n",
    "    \n",
    "    def __repr__(self):\n",
    "        return f\"{[str(val) for val in self.genome]}\"\n",
    "    \n",
    "@dataclass\n",
    "class Operators_agent:\n",
    "    \n",
    "    n_points_number: int\n",
    "    mutation_points: int\n",
    "    points_to_mutate: int\n",
    "    mutation_rate: float\n",
    "    crossover_functions : []\n",
    "\n",
    "    \n",
    "    def __init__(self, n_points_number, points_to_mutate, mutation_rate):\n",
    "        self.n_points_number = n_points_number\n",
    "        self.mutation_points = 1\n",
    "        self.points_to_mutate = points_to_mutate\n",
    "        self.mutation_rate = mutation_rate\n",
    "        self.crossover_functions = [Operators_agent.crossover_one_point, Operators_agent.crossover_n_point, Operators_agent.crossover_uniform]\n",
    "        \n",
    "    \n",
    "    def mutate(self, individual: \"Individual\"):\n",
    "        \n",
    "        index_to_mutate = random.choices(range(individual.n_loci), k=self.points_to_mutate)\n",
    "        new_genome = deepcopy(individual.genome)\n",
    "        for i in index_to_mutate:\n",
    "            new_genome[i] = 1 - new_genome[i]\n",
    "        return Individual(individual.fitness_func, individual.n_loci, new_genome)\n",
    "    \n",
    "    def crossover(self, ind1: \"Individual\", ind2: \"Individual\", cross_operation: int):\n",
    "        crossover_function = self.crossover_functions[cross_operation]\n",
    "        child = crossover_function(ind1, ind2, self.n_points_number)\n",
    "        return child\n",
    "    \n",
    "    def crossover_one_point(ind1: \"Individual\", ind2: \"Individual\", n):\n",
    "        index_to_cross = random.randrange(ind1.n_loci)\n",
    "        child = Individual(ind1.fitness_func, ind1.n_loci, ind1.genome[:index_to_cross] + ind2.genome[index_to_cross:])\n",
    "        return child\n",
    "        \n",
    "    def crossover_n_point(ind1: \"Individual\", ind2: \"Individual\", n):\n",
    "        index_list = sorted(random.sample(range(ind1.n_loci), n))\n",
    "        child1_genome, child2_genome = ind1.genome[:], ind2.genome[:]\n",
    "        for i in range(0, n, 2):\n",
    "            start = index_list[i]\n",
    "            end = index_list[i+1] if i+1 < n else len(ind1.genome)\n",
    "            child1_genome[start:end] = child2_genome[start:end]\n",
    "        return Individual(ind1.fitness_func, ind1.n_loci, child1_genome)\n",
    "                    \n",
    "    def crossover_uniform(ind1: \"Individual\", ind2: \"Individual\", n):\n",
    "        index_list = [random.random() for _ in range(ind1.n_loci)]\n",
    "        return Individual(ind1.fitness_func, ind1.n_loci, [i1 if index < .5 else i2 for i1, i2, index in zip(ind1.genome, ind2.genome, index_list)])"
   ]
  },
  {
   "cell_type": "markdown",
   "source": [
    "# Parent selection function\n",
    "This function compute a stochastic universal sampling for parent selection and use as parameter the reduction factor \"parent_selection_rate\" to indicates how much to reduce the initial populations\n",
    "The resulting population will be the one where the tournament takes place"
   ],
   "metadata": {
    "collapsed": false
   }
  },
  {
   "cell_type": "code",
   "execution_count": 931,
   "outputs": [],
   "source": [
    "def stochastic_universal_sampling(population: List[Individual], parent_selection_rate: int) -> List[Individual]:\n",
    "        \n",
    "    total_fitness = sum(ind.fitness for ind in population)\n",
    "    pointer_distance = total_fitness / len(population)\n",
    "    num_selected_parents = int(parent_selection_rate)\n",
    "    start = uniform(0, pointer_distance)\n",
    "    pointers = [start + i * pointer_distance for i in range(num_selected_parents)]\n",
    "\n",
    "    new_population = []\n",
    "    current_index = 0\n",
    "    for pointer in pointers:\n",
    "        while pointer > 0:\n",
    "            pointer -= population[current_index].fitness\n",
    "            current_index = (current_index + 1) % len(population)\n",
    "        new_population.append(population[current_index])\n",
    "        if len(new_population) == num_selected_parents:\n",
    "            break \n",
    "\n",
    "    return new_population"
   ],
   "metadata": {
    "collapsed": false,
    "ExecuteTime": {
     "end_time": "2023-12-02T17:18:03.573495Z",
     "start_time": "2023-12-02T17:18:03.565176Z"
    }
   }
  },
  {
   "cell_type": "markdown",
   "source": [
    "# Tournament function\n",
    "It implements a tournament selection to take a parent to use for recombination or reproduction"
   ],
   "metadata": {
    "collapsed": false
   }
  },
  {
   "cell_type": "code",
   "execution_count": 916,
   "outputs": [],
   "source": [
    "def select_parent(parents: list[Individual], size: int):\n",
    "    pool = choices(parents, k=size)\n",
    "    winner = max(pool, key=lambda ind: ind.fitness)\n",
    "    return winner"
   ],
   "metadata": {
    "collapsed": false,
    "ExecuteTime": {
     "end_time": "2023-12-02T15:54:50.609828Z",
     "start_time": "2023-12-02T15:54:50.583676Z"
    }
   }
  },
  {
   "cell_type": "markdown",
   "source": [
    "# Offspring generation function\n",
    "It generates the offspring by apply, using the tournament function to select the parent each iteration, a recombination or mutation depending on the mutation rate"
   ],
   "metadata": {
    "collapsed": false
   }
  },
  {
   "cell_type": "code",
   "execution_count": 917,
   "outputs": [],
   "source": [
    "def offspring_generation(parents: List[Individual], offspring_size: int, operator_agent: \"Operators_agent\", tournament_size: int, cross_operation) -> List[Individual]:\n",
    "    offspring = []\n",
    "    offspring_length = int(offspring_size)\n",
    "    \n",
    "    for _ in range(offspring_length):\n",
    "        p = select_parent(parents, tournament_size)\n",
    "        if random.random() < operator_agent.mutation_rate:\n",
    "            offspring.append(operator_agent.mutate(p))\n",
    "        else:\n",
    "            p2 = select_parent(parents, tournament_size)\n",
    "            offspring.append(operator_agent.crossover(p, p2, cross_operation))\n",
    "                  \n",
    "    return offspring"
   ],
   "metadata": {
    "collapsed": false,
    "ExecuteTime": {
     "end_time": "2023-12-02T15:54:50.610368Z",
     "start_time": "2023-12-02T15:54:50.586807Z"
    }
   }
  },
  {
   "cell_type": "markdown",
   "source": [
    "# Evolutionary algorithm\n",
    "It implements all the evolutionary cycle\n",
    "The principal steps are:\n",
    "* Initialization\n",
    "    * Initializes the fitness_function with the specified instance\n",
    "    * Generates the initial population randomically\n",
    "* For each generation:\n",
    "    * It first applies elitism to select the best parent\n",
    "    * It generates the offspring population, with a size specifying by the offspring rate\n",
    "    * It selects the best individual considering the union of both selected parents and offspring or just the offspring, depending on the selection type\n",
    "    * It checks if the best individual has reached the fitness score goal\n",
    "* to compute the variation operators it uses an operator agent\n",
    "    \n",
    "* In the end it returns both the best individual and the number of fitness calls "
   ],
   "metadata": {
    "collapsed": false
   }
  },
  {
   "cell_type": "code",
   "execution_count": 918,
   "outputs": [],
   "source": [
    "import math\n",
    "\n",
    "def launch_es_cycle(problem_instance: int, populations_number: int, n_loci: int, generations: int, offspring_size: int, tournament_size: int, selection_type: int, operator_agent: \"Operators_agent\", cross_operation: int):\n",
    "    \n",
    "    fitness_func = lab9_lib.make_problem(problem_instance)\n",
    "    population = [Individual(fitness_func, n_loci) for _ in range(populations_number)]\n",
    "    \n",
    "    for gen in range(generations):\n",
    "        \n",
    "        offspring = offspring_generation(population, offspring_size, operator_agent, tournament_size, cross_operation)\n",
    "        population = sorted(population+offspring if selection_type == 1 else offspring, key=lambda p: p.fitness, reverse=True)[:populations_number]\n",
    "        if math.isclose(1, population[0].fitness):\n",
    "            break\n",
    "        \n",
    "    return population[0], fitness_func.calls"
   ],
   "metadata": {
    "collapsed": false,
    "ExecuteTime": {
     "end_time": "2023-12-02T15:54:50.610441Z",
     "start_time": "2023-12-02T15:54:50.590281Z"
    }
   }
  },
  {
   "cell_type": "markdown",
   "source": [
    "# Parameters tuning\n",
    "This code has the purpose to tune some parameters, considering a small populations size and generations number, to find the best combination that will be used then to test the algorithm\n",
    "The parameters are:\n",
    "* OFFSPRING_SIZE: It indicates the size of the generated offspring\n",
    "* CROSS_OPERATIONS: It contains an array of 3 integer, each one corresponding to a different cross function\n",
    "* NUMBER_CROSSOVER_POINTS: It contains an array of integer that indicates the point in which the parents will be split in the crossover_n_point function\n",
    "* TOURNAMENT_SIZE: It indicates how much is the size of the array of individuals selected to compete in the tournament selection\n",
    "* MUTATION_POINTS: It indicates how much points the mutation change"
   ],
   "metadata": {
    "collapsed": false
   }
  },
  {
   "cell_type": "code",
   "execution_count": 919,
   "outputs": [
    {
     "name": "stdout",
     "output_type": "stream",
     "text": [
      "Instance 1\n",
      " Best Individual: Score: 1.0\n",
      " Calls: 17390\n",
      "Parameters:\n",
      " Tournament size:8\n",
      "Selection type:1\n",
      "Points to mutate:1\n",
      "Cross operation:2\n",
      "\n",
      "Instance 2\n",
      " Best Individual: Score: 0.812\n",
      " Calls: 20050\n",
      "Parameters:\n",
      " Tournament size:8\n",
      "Selection type:1\n",
      "Points to mutate:4\n",
      "Cross operation:2\n",
      "\n",
      "Instance 5\n",
      " Best Individual: Score: 0.4656\n",
      " Calls: 20050\n",
      "Parameters:\n",
      " Tournament size:4\n",
      "Selection type:1\n",
      "Points to mutate:4\n",
      "Cross operation:1\n",
      "\n",
      "Instance 10\n",
      " Best Individual: Score: 0.40372\n",
      " Calls: 20050\n",
      "Parameters:\n",
      " Tournament size:4\n",
      "Selection type:1\n",
      "Points to mutate:4\n",
      "Cross operation:0\n"
     ]
    }
   ],
   "source": [
    "import itertools\n",
    "\n",
    "LOCI = 1000\n",
    "PROBLEM_INSTANCES = [1, 2, 5, 10]\n",
    "\n",
    "GENERATIONS_TEST = 1000\n",
    "POPULATIONS_NUMBER_TEST = 50\n",
    "\n",
    "OFFSPRING_SIZE = 20\n",
    "NUMBER_CROSSOVER_POINTS = 2\n",
    "MUTATION_RATES = {1: 0.8, 2: 0.2, 5: 0.2, 10: 0.2}\n",
    "\n",
    "TOURNAMENT_SIZE = [2, 4, 8]\n",
    "SELECTION_TYPE = [0, 1]\n",
    "CROSS_OPERATIONS = [0, 1, 2]\n",
    "MUTATION_POINTS = [1, 4]\n",
    "\n",
    "\n",
    "parameter_combinations = list(itertools.product(PROBLEM_INSTANCES, TOURNAMENT_SIZE, SELECTION_TYPE, MUTATION_POINTS, CROSS_OPERATIONS))\n",
    "\n",
    "best_parameters = {}\n",
    "best_individuals = {}\n",
    "\n",
    "for instance, t_size, s_type, m_points, cr_op in parameter_combinations:\n",
    "    operator_agent = Operators_agent(NUMBER_CROSSOVER_POINTS, m_points, MUTATION_RATES[instance])\n",
    "    individual, calls = launch_es_cycle(instance, POPULATIONS_NUMBER_TEST, LOCI, GENERATIONS_TEST, OFFSPRING_SIZE, t_size, s_type, operator_agent, cr_op)\n",
    "    if instance not in best_parameters or (individual.fitness > best_individuals[instance][0].fitness)\\\n",
    "            or (math.isclose(individual.fitness, best_individuals[instance][0].fitness) and calls < best_individuals[instance][1]):\n",
    "        best_individuals[instance] = [individual, calls]\n",
    "        best_parameters[instance] = [t_size, s_type, m_points, cr_op]\n",
    "\n",
    "for instance in PROBLEM_INSTANCES:\n",
    "    print(f\"Instance {instance}\\n \"\n",
    "          f\"Best Individual: Score: {best_individuals[instance][0].fitness}\\n \"              \n",
    "          f\"Calls: {best_individuals[instance][1]}\")\n",
    "    print(f\"Parameters:\\n \"\n",
    "          f\"Tournament size:{best_parameters[instance][0]}\\n\"\n",
    "          f\"Selection type:{best_parameters[instance][1]}\\n\"\n",
    "          f\"Points to mutate:{best_parameters[instance][2]}\\n\"\n",
    "          f\"Cross operation:{best_parameters[instance][3]}\\n\")\n"
   ],
   "metadata": {
    "collapsed": false,
    "ExecuteTime": {
     "end_time": "2023-12-02T15:59:48.315715Z",
     "start_time": "2023-12-02T15:54:50.594028Z"
    }
   }
  },
  {
   "cell_type": "markdown",
   "source": [
    "# Instance 1 \n",
    "Parameter tuning for offspring and population size\n"
   ],
   "metadata": {
    "collapsed": false
   }
  },
  {
   "cell_type": "code",
   "execution_count": 921,
   "outputs": [
    {
     "name": "stdout",
     "output_type": "stream",
     "text": [
      "Instance 1\n",
      " Best Individual: Score: 1.0\n",
      " Calls: 11660\n",
      "Parameters:\n",
      " Population size:20\n",
      "Offspring size:20\n"
     ]
    }
   ],
   "source": [
    "TOURNAMENT_SIZE = 8\n",
    "SELECTION_TYPE = 1\n",
    "POINTS_TO_MUTATE = 1\n",
    "CROSS_OPERATION = 2\n",
    "INSTANCE = 1\n",
    "POPULATION_SIZE = [20, 40, 60, 80]\n",
    "OFFSPRING_SIZE = [20, 30, 40, 50]\n",
    "MUTATION_RATE = 0.8\n",
    "GENERATIONS = 5000\n",
    "\n",
    "parameter_combinations = list(itertools.product(POPULATION_SIZE, OFFSPRING_SIZE))\n",
    "\n",
    "best_parameters = {}\n",
    "best_individuals = {}\n",
    "\n",
    "for p_size, of_size in parameter_combinations:\n",
    "    operator_agent = Operators_agent(INSTANCE, POINTS_TO_MUTATE, MUTATION_RATE)\n",
    "    individual, calls = launch_es_cycle(INSTANCE, p_size, LOCI, GENERATIONS, of_size, TOURNAMENT_SIZE, SELECTION_TYPE, operator_agent, CROSS_OPERATION)\n",
    "    if instance not in best_parameters or (individual.fitness > best_individuals[instance][0].fitness)\\\n",
    "            or (math.isclose(individual.fitness, best_individuals[instance][0].fitness) and calls < best_individuals[instance][1]):\n",
    "        best_individuals[instance] = [individual, calls]\n",
    "        best_parameters[instance] = [p_size, of_size]\n",
    "\n",
    "print(f\"Instance {INSTANCE}\\n \"\n",
    "          f\"Best Individual: Score: {best_individuals[instance][0].fitness}\\n \"              \n",
    "          f\"Calls: {best_individuals[instance][1]}\")\n",
    "print(f\"Parameters:\\n \"\n",
    "          f\"Population size:{best_parameters[instance][0]}\\n \"\n",
    "          f\"Offspring size:{best_parameters[instance][1]}\\n\")"
   ],
   "metadata": {
    "collapsed": false,
    "ExecuteTime": {
     "end_time": "2023-12-02T16:10:31.038848Z",
     "start_time": "2023-12-02T16:09:40.846073Z"
    }
   }
  },
  {
   "cell_type": "markdown",
   "source": [
    "This function enhanced the previous one by adding a control on the standard deviation and, in case of a too low value, it decrement the population to a minor number with the stochastic universal sampling and then add random individual to reobtain the original population number"
   ],
   "metadata": {
    "collapsed": false
   }
  },
  {
   "cell_type": "code",
   "execution_count": 934,
   "outputs": [],
   "source": [
    "import numpy as np\n",
    "\n",
    "def launch_es_cycle_with_survival_selection(problem_instance: int, populations_number: int, n_loci: int, generations: int, offspring_size: int, tournament_size: int, selection_type: int, operator_agent: \"Operators_agent\", cross_operation: int, parent_selection_size: int):\n",
    "    \n",
    "    fitness_func = lab9_lib.make_problem(problem_instance)\n",
    "    population = [Individual(fitness_func, n_loci) for _ in range(populations_number)]\n",
    "    \n",
    "    for gen in range(generations):\n",
    "        \n",
    "        offspring = offspring_generation(population, offspring_size, operator_agent, tournament_size, cross_operation)\n",
    "        population = sorted(population+offspring if selection_type == 1 else offspring, key=lambda p: p.fitness, reverse=True)[:populations_number]\n",
    "        if math.isclose(1, population[0].fitness):\n",
    "            break\n",
    "        if np.std([p.fitness for p in population]) < 0.005:\n",
    "            best_individual = population[0]\n",
    "            population.remove(population[0])\n",
    "            population = stochastic_universal_sampling(population, parent_selection_size)\n",
    "            population.append(best_individual)\n",
    "            population.extend([Individual(fitness_func, n_loci) for _ in range(populations_number-len(population))])\n",
    "        \n",
    "    return population[0], fitness_func.calls"
   ],
   "metadata": {
    "collapsed": false,
    "ExecuteTime": {
     "end_time": "2023-12-02T17:25:02.641695Z",
     "start_time": "2023-12-02T17:25:02.630377Z"
    }
   }
  },
  {
   "cell_type": "code",
   "execution_count": 943,
   "outputs": [
    {
     "name": "stdout",
     "output_type": "stream",
     "text": [
      "Instance 2\n",
      " Best Individual: Score: 0.998\n",
      " Calls: 2776388\n",
      "Parameters:\n",
      " Parent Selection Rate:65\n",
      "Mutation Rate:0.6\n",
      "\n",
      "Instance 5\n",
      " Best Individual: Score: 0.72\n",
      " Calls: 2650248\n",
      "Parameters:\n",
      " Parent Selection Rate:65\n",
      "Mutation Rate:0.6\n",
      "\n",
      "Instance 10\n",
      " Best Individual: Score: 0.4\n",
      " Calls: 2634532\n",
      "Parameters:\n",
      " Parent Selection Rate:35\n",
      "Mutation Rate:0.6\n"
     ]
    }
   ],
   "source": [
    "LOCI = 1000\n",
    "PROBLEM_INSTANCES = [2, 5, 10]\n",
    "\n",
    "TOURNAMENT_SIZE = {2: 8, 5: 4, 10: 4}\n",
    "SELECTION_TYPE = 1\n",
    "POINTS_TO_MUTATE = 4\n",
    "CROSS_OPERATION = {2: 2, 5: 1, 10: 0}\n",
    "NUMBER_CROSSOVER_POINTS = 2\n",
    "PARENT_SELECTION_SIZE = [35, 65]\n",
    "POPULATION_SIZE = 100\n",
    "OFFSPRING_SIZE = 50\n",
    "MUTATION_RATE = [0.2, 0.6]\n",
    "GENERATIONS = 40000\n",
    "\n",
    "parameter_combinations = list(itertools.product(PROBLEM_INSTANCES, PARENT_SELECTION_SIZE, MUTATION_RATE))\n",
    "\n",
    "best_parameters = {}\n",
    "best_individuals = {}\n",
    "\n",
    "for instance, p_s_s, m_rate in parameter_combinations:\n",
    "    operator_agent = Operators_agent(NUMBER_CROSSOVER_POINTS, POINTS_TO_MUTATE, m_rate)\n",
    "    individual, calls = launch_es_cycle_with_survival_selection(instance, POPULATION_SIZE, LOCI, GENERATIONS, OFFSPRING_SIZE, TOURNAMENT_SIZE[instance], SELECTION_TYPE, operator_agent, CROSS_OPERATION[instance], p_s_s)\n",
    "    if instance not in best_parameters or (individual.fitness > best_individuals[instance][0].fitness)\\\n",
    "            or (math.isclose(individual.fitness, best_individuals[instance][0].fitness) and calls < best_individuals[instance][1]):\n",
    "        best_individuals[instance] = [individual, calls]\n",
    "        best_parameters[instance] = [p_s_s, m_rate]\n",
    "\n",
    "for instance in PROBLEM_INSTANCES:\n",
    "    print(f\"Instance {instance}\\n \"\n",
    "          f\"Best Individual: Score: {best_individuals[instance][0].fitness}\\n \"              \n",
    "          f\"Calls: {best_individuals[instance][1]}\")\n",
    "    print(f\"Parameters:\\n \"\n",
    "          f\"Parent Selection Rate:{best_parameters[instance][0]}\\n\"\n",
    "          f\"Mutation Rate:{best_parameters[instance][1]}\\n\")"
   ],
   "metadata": {
    "collapsed": false,
    "ExecuteTime": {
     "end_time": "2023-12-03T12:15:48.600673Z",
     "start_time": "2023-12-03T08:53:36.782750Z"
    }
   }
  },
  {
   "cell_type": "markdown",
   "source": [],
   "metadata": {
    "collapsed": false
   }
  }
 ],
 "metadata": {
  "kernelspec": {
   "display_name": "ci-fLJ3OwGs-py3.12",
   "language": "python",
   "name": "python3"
  },
  "language_info": {
   "codemirror_mode": {
    "name": "ipython",
    "version": 3
   },
   "file_extension": ".py",
   "mimetype": "text/x-python",
   "name": "python",
   "nbconvert_exporter": "python",
   "pygments_lexer": "ipython3",
   "version": "3.12.0"
  }
 },
 "nbformat": 4,
 "nbformat_minor": 2
}
