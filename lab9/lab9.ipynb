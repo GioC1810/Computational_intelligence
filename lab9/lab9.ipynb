{
 "cells": [
  {
   "cell_type": "markdown",
   "metadata": {},
   "source": [
    "Copyright **`(c)`** 2023 Giovanni Squillero `<giovanni.squillero@polito.it>`  \n",
    "[`https://github.com/squillero/computational-intelligence`](https://github.com/squillero/computational-intelligence)  \n",
    "Free for personal or classroom use; see [`LICENSE.md`](https://github.com/squillero/computational-intelligence/blob/master/LICENSE.md) for details.  "
   ]
  },
  {
   "cell_type": "markdown",
   "metadata": {},
   "source": [
    "# LAB9\n",
    "\n",
    "Write a local-search algorithm (eg. an EA) able to solve the *Problem* instances 1, 2, 5, and 10 on a 1000-loci genomes, using a minimum number of fitness calls. That's all.\n",
    "\n",
    "### Deadlines:\n",
    "\n",
    "* Submission: Sunday, December 3 ([CET](https://www.timeanddate.com/time/zones/cet))\n",
    "* Reviews: Sunday, December 10 ([CET](https://www.timeanddate.com/time/zones/cet))\n",
    "\n",
    "Notes:\n",
    "\n",
    "* Reviews will be assigned  on Monday, December 4\n",
    "* You need to commit in order to be selected as a reviewer (ie. better to commit an empty work than not to commit)"
   ]
  },
  {
   "cell_type": "code",
   "execution_count": 776,
   "metadata": {
    "ExecuteTime": {
     "end_time": "2023-12-01T23:51:51.023622Z",
     "start_time": "2023-12-01T23:51:50.998971Z"
    }
   },
   "outputs": [],
   "source": [
    "from random import choices, uniform\n",
    "import random\n",
    "from dataclasses import dataclass, field\n",
    "from copy import deepcopy\n",
    "from typing import Callable, List\n",
    "\n",
    "\n",
    "import lab9.lab9_lib as lab9_lib"
   ]
  },
  {
   "cell_type": "code",
   "execution_count": 777,
   "metadata": {
    "ExecuteTime": {
     "end_time": "2023-12-01T23:51:51.024909Z",
     "start_time": "2023-12-01T23:51:51.002984Z"
    }
   },
   "outputs": [
    {
     "name": "stdout",
     "output_type": "stream",
     "text": [
      "11000010111110111110010001111010110111111110010110: 9.11%\n",
      "10010101101000000111101111110011111000111101001001: 9.13%\n",
      "01111110001001110111010110101110111110000101001011: 9.11%\n",
      "10110011000001011000110111110101100000010010100010: 17.56%\n",
      "00110111000110001011010011111101111101111111011100: 39.33%\n",
      "10110001101010111000001110000001110001000011011011: 9.16%\n",
      "01111011010001001001011110000011111101100100001100: 15.33%\n",
      "01011010101000000010111011101010010101011100100111: 15.34%\n",
      "00011001000101111010101100010010001000111000100010: 7.33%\n",
      "11100011001101101111011011000110101100000101110001: 15.33%\n",
      "10\n"
     ]
    }
   ],
   "source": [
    "fitness = lab9_lib.make_problem(10)\n",
    "for n in range(10):\n",
    "    ind = choices([0, 1], k=50)\n",
    "    print(f\"{''.join(str(g) for g in ind)}: {fitness(ind):.2%}\")\n",
    "\n",
    "print(fitness.calls)"
   ]
  },
  {
   "cell_type": "markdown",
   "source": [],
   "metadata": {
    "collapsed": false
   }
  },
  {
   "cell_type": "code",
   "execution_count": 778,
   "metadata": {
    "ExecuteTime": {
     "end_time": "2023-12-01T23:51:51.048449Z",
     "start_time": "2023-12-01T23:51:51.016795Z"
    }
   },
   "outputs": [],
   "source": [
    "@dataclass\n",
    "class Individual:\n",
    "    genome : tuple[int]\n",
    "    n_loci: int\n",
    "    fitness: float\n",
    "    fitness_func: Callable[[tuple[int]], float]\n",
    "    \n",
    "    def __init__(self, FITNESS_FUNC, n_loci, genome = None):\n",
    "        self.n_loci = n_loci\n",
    "        if genome is None:\n",
    "            self.genome = random.choices([0, 1], k=n_loci)\n",
    "        else:\n",
    "            self.genome = genome\n",
    "        self.fitness_func = FITNESS_FUNC\n",
    "        self.fitness = self.fitness_func(self.genome)\n",
    "    \n",
    "    def __repr__(self):\n",
    "        return f\"{[str(val) for val in self.genome]}\"\n",
    "    \n",
    "    @staticmethod\n",
    "    def mutate(individual: \"Individual\"):\n",
    "        points_to_mutate = int((1 - individual.fitness)*10)\n",
    "        index_to_mutate = random.choices(range(individual.n_loci), k=points_to_mutate)\n",
    "        new_genome = deepcopy(individual.genome)\n",
    "        for i in index_to_mutate:\n",
    "            new_genome[i] = 1 - new_genome[i]\n",
    "        return Individual(individual.fitness_func, individual.n_loci, new_genome)\n",
    "    \n",
    "    @staticmethod\n",
    "    def crossover_one_point(ind1: \"Individual\", ind2: \"Individual\"):\n",
    "        index_to_cross = random.randrange(ind1.n_loci)\n",
    "        return Individual(ind1.fitness_func, ind1.n_loci, ind1.genome[:index_to_cross] + ind2.genome[index_to_cross:])\n",
    "        \n",
    "    @staticmethod\n",
    "    def crossover_n_point(ind1: \"Individual\", ind2: \"Individual\", n=40):\n",
    "        index_list = sorted(random.sample(range(ind1.n_loci), n))\n",
    "        child1_genome, child2_genome = ind1.genome[:], ind2.genome[:]\n",
    "        for i in range(0, n, 2):\n",
    "            start = index_list[i]\n",
    "            end = index_list[i+1] if i+1 < n else len(ind1.genome)\n",
    "            child1_genome[start:end] = child2_genome[start:end]\n",
    "        return Individual(ind1.fitness_func, ind1.n_loci, child1_genome)\n",
    "            \n",
    "    @staticmethod\n",
    "    def crossover_uniform(ind1: \"Individual\", ind2: \"Individual\"):\n",
    "        index_list = [random.random() for _ in range(ind1.n_loci)]\n",
    "        return Individual(ind1.fitness_func, ind1.n_loci, [i1 if index < .5 else i2 for i1, i2, index in zip(ind1.genome, ind2.genome, index_list)])\n",
    "    \n",
    "@dataclass\n",
    "class Operators_agent:\n",
    "    \n",
    "    n_points_number: int\n",
    "    crossover_success_rate : {}\n",
    "\n",
    "    weight_vector_prob : []\n",
    "    tot_crossover: int\n",
    "    \n",
    "    def __init__(self, n_points_number):\n",
    "        self.n_points_number = n_points_number\n",
    "        self.weight_vector_prob = [1, 1, 1]\n",
    "        self.crossover_success_rate = {}\n",
    "        self.tot_crossover = 0\n",
    "        CROSSOVER_FUNCTION = [\"crossover_one_point\", \"crossover_n_point\", \"crossover_uniform\"]\n",
    "        for func_name in CROSSOVER_FUNCTION:\n",
    "            self.crossover_success_rate[func_name] = 0\n",
    "    \n",
    "    \n",
    "    def mutate(self, individual: \"Individual\"):\n",
    "        points_to_mutate = int((1 - individual.fitness)*(individual.n_loci)/50)\n",
    "        index_to_mutate = random.choices(range(individual.n_loci), k=points_to_mutate)\n",
    "        new_genome = deepcopy(individual.genome)\n",
    "        for i in index_to_mutate:\n",
    "            new_genome[i] = 1 - new_genome[i]\n",
    "        return Individual(individual.fitness_func, individual.n_loci, new_genome)\n",
    "    \n",
    "    def crossover(self, ind1: \"Individual\", ind2: \"Individual\"):\n",
    "        crossover_function = random.choices([Operators_agent.crossover_one_point, Operators_agent.crossover_n_point, Operators_agent.crossover_uniform], \n",
    "                                            weights=self.weight_vector_prob, \n",
    "                                            k=1)[0]\n",
    "        child = crossover_function(ind1, ind2, self.n_points_number)\n",
    "        self.tot_crossover += 1\n",
    "        if child.fitness > ind1.fitness and child.fitness > ind2.fitness:\n",
    "            self.crossover_success_rate[crossover_function.__name__] += 1\n",
    "            if self.tot_crossover % 5 == 0:\n",
    "                i = 0\n",
    "                for value in self.crossover_success_rate.values():\n",
    "                    self.weight_vector_prob[i] = value/self.tot_crossover\n",
    "                    i += 1\n",
    "        return child\n",
    "    \n",
    "    def crossover_one_point(ind1: \"Individual\", ind2: \"Individual\", n):\n",
    "        index_to_cross = random.randrange(ind1.n_loci)\n",
    "        child = Individual(ind1.fitness_func, ind1.n_loci, ind1.genome[:index_to_cross] + ind2.genome[index_to_cross:])\n",
    "        return child\n",
    "        \n",
    "    def crossover_n_point(ind1: \"Individual\", ind2: \"Individual\", n):\n",
    "        index_list = sorted(random.sample(range(ind1.n_loci), n))\n",
    "        child1_genome, child2_genome = ind1.genome[:], ind2.genome[:]\n",
    "        for i in range(0, n, 2):\n",
    "            start = index_list[i]\n",
    "            end = index_list[i+1] if i+1 < n else len(ind1.genome)\n",
    "            child1_genome[start:end] = child2_genome[start:end]\n",
    "        return Individual(ind1.fitness_func, ind1.n_loci, child1_genome)\n",
    "                    \n",
    "    def crossover_uniform(ind1: \"Individual\", ind2: \"Individual\", n):\n",
    "        index_list = [random.random() for _ in range(ind1.n_loci)]\n",
    "        return Individual(ind1.fitness_func, ind1.n_loci, [i1 if index < .5 else i2 for i1, i2, index in zip(ind1.genome, ind2.genome, index_list)])"
   ]
  },
  {
   "cell_type": "markdown",
   "source": [
    "# Mutation rate mapping\n",
    "It is a function used to change dinamically the mutation rate, by progressively increase it as the average fitness scores increase"
   ],
   "metadata": {
    "collapsed": false
   }
  },
  {
   "cell_type": "code",
   "execution_count": 779,
   "outputs": [],
   "source": [
    "MUTATION_RATE_RANGE = [0.1, 0.2, 0.3, 0.4, 0.5]\n",
    "def mutation_rate_selection(fitness_average: float):\n",
    "    index = int((fitness_average) / 0.2)\n",
    "    return MUTATION_RATE_RANGE[index]\n"
   ],
   "metadata": {
    "collapsed": false,
    "ExecuteTime": {
     "end_time": "2023-12-01T23:51:51.048554Z",
     "start_time": "2023-12-01T23:51:51.019439Z"
    }
   }
  },
  {
   "cell_type": "markdown",
   "source": [
    "# Parent selection function\n",
    "This function compute a stochastic universal sampling for parent selection and use as parameter the reduction factor \"parent_selection_rate\" to indicates how much to reduce the initial populations\n",
    "The resulting population will be the one where the tournament takes place"
   ],
   "metadata": {
    "collapsed": false
   }
  },
  {
   "cell_type": "code",
   "execution_count": 780,
   "outputs": [],
   "source": [
    "def stochastic_universal_sampling(population: List[Individual], parent_selection_rate: int) -> List[Individual]:\n",
    "        \n",
    "    total_fitness = sum(ind.fitness for ind in population)\n",
    "    pointer_distance = total_fitness / len(population)\n",
    "    num_selected_parents = int(len(population)/parent_selection_rate)\n",
    "    start = uniform(0, pointer_distance)\n",
    "    pointers = [start + i * pointer_distance for i in range(num_selected_parents)]\n",
    "\n",
    "    new_population = []\n",
    "    current_index = 0\n",
    "    for pointer in pointers:\n",
    "        while pointer > 0:\n",
    "            pointer -= population[current_index].fitness\n",
    "            current_index = (current_index + 1) % len(population)\n",
    "        new_population.append(population[current_index])\n",
    "        if len(new_population) == num_selected_parents:\n",
    "            break \n",
    "\n",
    "    return new_population"
   ],
   "metadata": {
    "collapsed": false,
    "ExecuteTime": {
     "end_time": "2023-12-01T23:51:51.049268Z",
     "start_time": "2023-12-01T23:51:51.024152Z"
    }
   }
  },
  {
   "cell_type": "markdown",
   "source": [
    "# Tournament function\n",
    "It implements a tournament selection to take a parent to use for recombination or reproduction"
   ],
   "metadata": {
    "collapsed": false
   }
  },
  {
   "cell_type": "code",
   "execution_count": 781,
   "outputs": [],
   "source": [
    "def select_parent(parents: list[Individual], size: int):\n",
    "    pool = choices(parents, k=size)\n",
    "    winner = max(pool, key=lambda ind: ind.fitness)\n",
    "    return winner"
   ],
   "metadata": {
    "collapsed": false,
    "ExecuteTime": {
     "end_time": "2023-12-01T23:51:51.052670Z",
     "start_time": "2023-12-01T23:51:51.026955Z"
    }
   }
  },
  {
   "cell_type": "markdown",
   "source": [
    "# Offspring generation function\n",
    "It generates the offspring by apply, using the tournament function to select the parent each iteration, a recombination or mutation depending on the mutation rate"
   ],
   "metadata": {
    "collapsed": false
   }
  },
  {
   "cell_type": "code",
   "execution_count": 782,
   "outputs": [],
   "source": [
    "def offspring_generation(parents: List[Individual], populations_number: int, offspring_rate: int, operator_agent: \"Operators_agent\", mutation_rate: int, tournament_size: int) -> List[Individual]:\n",
    "    offspring = []\n",
    "    offspring_length = int(populations_number*offspring_rate)\n",
    "    \n",
    "    for _ in range(offspring_length):\n",
    "        p = select_parent(parents, tournament_size)\n",
    "        if random.random() < mutation_rate:\n",
    "            p2 = select_parent(parents, tournament_size)\n",
    "            offspring.append(operator_agent.crossover(p, p2))\n",
    "        else:\n",
    "            offspring.append(Individual.mutate(p))\n",
    "                \n",
    "    return offspring"
   ],
   "metadata": {
    "collapsed": false,
    "ExecuteTime": {
     "end_time": "2023-12-01T23:51:51.060197Z",
     "start_time": "2023-12-01T23:51:51.029755Z"
    }
   }
  },
  {
   "cell_type": "markdown",
   "source": [
    "# Evolutionary algorithm\n",
    "It implements all the evolutionary cycle\n",
    "The principal steps are:\n",
    "* Initialization\n",
    "    * Initializes the fitness_function with the specified instance\n",
    "    * Generates the initial population randomically\n",
    "    * Initializes the mutation rate \n",
    "* For each generation:\n",
    "    * It first applies elitism to select the best parent, to avoid that it will not be selected in the consequential stochastic selection\n",
    "    * Then it uses a stochastic universal sampling to select a subset of the initial parents, based on the parent selection rate parameter, that will be used then\n",
    "    * It generates the offspring population, with a size specifying by the offspring rate\n",
    "    * It selects the best individual considering the union of both selected parents and offspring\n",
    "    * It checks if the best individual has reached the fitness score goal\n",
    "    * It changes the mutation rate by check the average fitness score\n",
    "* In the end it returns both the best individual and the number of fitness calls "
   ],
   "metadata": {
    "collapsed": false
   }
  },
  {
   "cell_type": "code",
   "execution_count": 783,
   "outputs": [],
   "source": [
    "import math\n",
    "import numpy as np\n",
    "\n",
    "\n",
    "def launch_es_cycle(problem_instance: int, populations_number: int, n_loci: int, generations: int, parent_selection_rate: int, offspring_rate: int, number_crossover_points: int, tournament_size: int, mutation_rate: int):\n",
    "    \n",
    "    fitness_func = lab9_lib.make_problem(problem_instance)\n",
    "    population = [Individual(fitness_func, n_loci) for _ in range(populations_number)]\n",
    "    operator_agent = Operators_agent(number_crossover_points)\n",
    "    \n",
    "    for gen in range(generations):\n",
    "        best_parent = max(population, key=lambda p: p.fitness)\n",
    "        population.remove(best_parent)\n",
    "        selected_parents = stochastic_universal_sampling(population, parent_selection_rate)\n",
    "        selected_parents.append(best_parent)\n",
    "        offspring = offspring_generation(selected_parents, populations_number, offspring_rate, operator_agent, mutation_rate, tournament_size)\n",
    "        population = sorted(selected_parents+offspring, key=lambda p: p.fitness, reverse=True)[:populations_number]\n",
    "        if math.isclose(1, population[0].fitness):\n",
    "            break\n",
    "        standard_deviation = np.std([ind.fitness for ind in population])\n",
    "        if standard_deviation < 0.1:\n",
    "            mutation_rate += standard_deviation/2\n",
    "        elif standard_deviation > 0.3:\n",
    "            mutation_rate -= standard_deviation/2\n",
    "    \n",
    "    \n",
    "    return population[0], fitness_func.calls"
   ],
   "metadata": {
    "collapsed": false,
    "ExecuteTime": {
     "end_time": "2023-12-01T23:51:51.060265Z",
     "start_time": "2023-12-01T23:51:51.034060Z"
    }
   }
  },
  {
   "cell_type": "markdown",
   "source": [
    "# Parameters tuning\n",
    "This code has the purpose to tune some parameters, considering a small populations size and generations number, to find the best combination that will be used then to test the algorithm\n",
    "The parameters are:\n",
    "* OFFSPRING_RATE: It indicates a multiplicative factor, with respect to the population size, that indicates how big the offspring population will be (Es: with an offspring_rate of 6 and a population number of 100, the resulting offspring population will be composed by 6*100 individuals)\n",
    "* RECOMBINATION_FUNCTIONS: It contains an array of 3 crossover function used for the recombination operator\n",
    "* NUMBER_CROSSOVER_POINTS: It contains an array of integer that indicates the point in which the parents will be split in the crossover_n_point function\n",
    "* PARENT_SELECTION_RATE: It contains a divisor factor, with respect to the population size, that indicates how much the parent population will be decimated (Es: with a parent_selection_rate of 3 and a population number of 300, the resulting population will be composed by 300/3\n",
    "* TOURNAMENT_SIZE: It indicates how much is the size of the array of individuals selected to compete in the tournament selection"
   ],
   "metadata": {
    "collapsed": false
   }
  },
  {
   "cell_type": "code",
   "execution_count": 784,
   "outputs": [
    {
     "name": "stdout",
     "output_type": "stream",
     "text": [
      "Instance 1\n",
      " Best Individual: Score: 0.902\n",
      " Calls: 20050\n",
      "Parameters:\n",
      " Number of points for crossover: 30\n",
      "Parent selection rate:1\n",
      "Tournament size:15\n",
      "\n",
      "Instance 2\n",
      " Best Individual: Score: 0.608\n",
      " Calls: 20050\n",
      "Parameters:\n",
      " Number of points for crossover: 100\n",
      "Parent selection rate:1\n",
      "Tournament size:5\n",
      "\n",
      "Instance 5\n",
      " Best Individual: Score: 0.505\n",
      " Calls: 20050\n",
      "Parameters:\n",
      " Number of points for crossover: 10\n",
      "Parent selection rate:1\n",
      "Tournament size:15\n",
      "\n",
      "Instance 10\n",
      " Best Individual: Score: 0.36722699999999997\n",
      " Calls: 20050\n",
      "Parameters:\n",
      " Number of points for crossover: 10\n",
      "Parent selection rate:1\n",
      "Tournament size:5\n"
     ]
    }
   ],
   "source": [
    "import itertools\n",
    "\n",
    "LOCI = 1000\n",
    "PROBLEM_INSTANCES = [1, 2, 5, 10]\n",
    "\n",
    "GENERATIONS_TEST = 200\n",
    "POPULATIONS_NUMBER_TEST = 50\n",
    "\n",
    "OFFSPRING_RATE = 2\n",
    "\n",
    "RECOMBINATION_FUNCTIONS = [Individual.crossover_one_point, Individual.crossover_n_point, Individual.crossover_uniform]\n",
    "NUMBER_CROSSOVER_POINTS = [10, 30, 100]\n",
    "PARENT_SELECTION_RATE = [1, 3, 5]\n",
    "TOURNAMENT_SIZE = [5, 15, 30]\n",
    "MUTATION_RATES = {1: 0.8, 2: 0.2, 5: 0.2, 10: 0.2}\n",
    "\n",
    "\n",
    "parameter_combinations = list(itertools.product(PROBLEM_INSTANCES, NUMBER_CROSSOVER_POINTS, PARENT_SELECTION_RATE, TOURNAMENT_SIZE))\n",
    "\n",
    "best_parameters = {}\n",
    "best_individuals = {}\n",
    "\n",
    "for instance, n_points_cr, p_rate, t_size in parameter_combinations:\n",
    "    individual, calls = launch_es_cycle(instance, POPULATIONS_NUMBER_TEST, LOCI, GENERATIONS_TEST, p_rate, OFFSPRING_RATE, n_points_cr, t_size, MUTATION_RATES[instance])\n",
    "    if instance not in best_parameters or individual.fitness > best_individuals[instance][0].fitness:\n",
    "        best_individuals[instance] = [individual, calls]\n",
    "        best_parameters[instance] = [n_points_cr, p_rate, t_size]\n",
    "\n",
    "for instance in PROBLEM_INSTANCES:\n",
    "    print(f\"Instance {instance}\\n \"\n",
    "          f\"Best Individual: Score: {best_individuals[instance][0].fitness}\\n \"              \n",
    "          f\"Calls: {best_individuals[instance][1]}\")\n",
    "    print(f\"Parameters:\\n \"\n",
    "          f\"Number of points for crossover: {best_parameters[instance][0]}\\n\"\n",
    "          f\"Parent selection rate:{best_parameters[instance][1]}\\n\"\n",
    "          f\"Tournament size:{best_parameters[instance][2]}\\n\")\n"
   ],
   "metadata": {
    "collapsed": false,
    "ExecuteTime": {
     "end_time": "2023-12-02T01:29:53.852938Z",
     "start_time": "2023-12-01T23:51:51.085445Z"
    }
   }
  },
  {
   "cell_type": "code",
   "execution_count": null,
   "outputs": [],
   "source": [
    "FINAL_POPULATIONS_SIZE = 30\n",
    "FINAL_GENERATIONS = 1000\n",
    "final_individual = {}\n",
    "for instance in PROBLEM_INSTANCES:\n",
    "    individual, calls = launch_es_cycle(instance, FINAL_POPULATIONS_SIZE, LOCI, FINAL_GENERATIONS, best_parameters[instance][1], OFFSPRING_RATE, best_parameters[instance][0], best_parameters[instance][2], MUTATION_RATES[instance])\n",
    "    final_individual[instance] = (individual, calls)\n",
    "    print(f\"Instance {instance}: Final Score: {final_individual[instance][0].fitness} with {final_individual[instance][1]} calls\\n\")\n",
    "    "
   ],
   "metadata": {
    "collapsed": false
   }
  },
  {
   "cell_type": "markdown",
   "source": [],
   "metadata": {
    "collapsed": false
   }
  }
 ],
 "metadata": {
  "kernelspec": {
   "display_name": "ci-fLJ3OwGs-py3.12",
   "language": "python",
   "name": "python3"
  },
  "language_info": {
   "codemirror_mode": {
    "name": "ipython",
    "version": 3
   },
   "file_extension": ".py",
   "mimetype": "text/x-python",
   "name": "python",
   "nbconvert_exporter": "python",
   "pygments_lexer": "ipython3",
   "version": "3.12.0"
  }
 },
 "nbformat": 4,
 "nbformat_minor": 2
}
