{
 "cells": [
  {
   "cell_type": "markdown",
   "metadata": {},
   "source": [
    "Copyright **`(c)`** 2023 Giovanni Squillero `<giovanni.squillero@polito.it>`  \n",
    "[`https://github.com/squillero/computational-intelligence`](https://github.com/squillero/computational-intelligence)  \n",
    "Free for personal or classroom use; see [`LICENSE.md`](https://github.com/squillero/computational-intelligence/blob/master/LICENSE.md) for details.  "
   ]
  },
  {
   "cell_type": "markdown",
   "metadata": {},
   "source": [
    "# LAB9\n",
    "\n",
    "Write a local-search algorithm (eg. an EA) able to solve the *Problem* instances 1, 2, 5, and 10 on a 1000-loci genomes, using a minimum number of fitness calls. That's all.\n",
    "\n",
    "### Deadlines:\n",
    "\n",
    "* Submission: Sunday, December 3 ([CET](https://www.timeanddate.com/time/zones/cet))\n",
    "* Reviews: Sunday, December 10 ([CET](https://www.timeanddate.com/time/zones/cet))\n",
    "\n",
    "Notes:\n",
    "\n",
    "* Reviews will be assigned  on Monday, December 4\n",
    "* You need to commit in order to be selected as a reviewer (ie. better to commit an empty work than not to commit)"
   ]
  },
  {
   "cell_type": "code",
   "execution_count": 34,
   "metadata": {
    "ExecuteTime": {
     "end_time": "2023-12-14T14:24:23.227968Z",
     "start_time": "2023-12-14T14:24:23.224325Z"
    }
   },
   "outputs": [],
   "source": [
    "from random import choices, uniform\n",
    "import random\n",
    "from dataclasses import dataclass, field\n",
    "from copy import deepcopy\n",
    "from typing import Callable, List\n",
    "import math\n",
    "import numpy as np\n",
    "\n",
    "import lab9.lab9_lib as lab9_lib"
   ]
  },
  {
   "cell_type": "code",
   "execution_count": 35,
   "metadata": {
    "ExecuteTime": {
     "end_time": "2023-12-14T14:24:23.503445Z",
     "start_time": "2023-12-14T14:24:23.492876Z"
    }
   },
   "outputs": [
    {
     "name": "stdout",
     "output_type": "stream",
     "text": [
      "11111111001010000110110000100001001001001101001111: 23.36%\n",
      "00010111101011110101001111100111011101001100110010: 9.11%\n",
      "00101001000011010010100111100001101101010011001011: 7.33%\n",
      "01101101010000111110111110110110111001001001101000: 9.13%\n",
      "11100010001110111100111001110111010011100011101011: 9.11%\n",
      "01111000010111111001001111001000101001010101000001: 31.36%\n",
      "00101100101111010100111100010101001100110011111011: 15.33%\n",
      "00011100111010100011001110111101011110110111110010: 19.11%\n",
      "10011001001111111111111011001001101010101111111000: 9.11%\n",
      "00000100011101110111110111001101011100011101000011: 9.11%\n",
      "10\n"
     ]
    }
   ],
   "source": [
    "fitness = lab9_lib.make_problem(10)\n",
    "for n in range(10):\n",
    "    ind = choices([0, 1], k=50)\n",
    "    print(f\"{''.join(str(g) for g in ind)}: {fitness(ind):.2%}\")\n",
    "\n",
    "print(fitness.calls)"
   ]
  },
  {
   "cell_type": "markdown",
   "source": [
    "# Individual\n",
    "It defines the individual of the ES strategy, it is composed by a genome, which is the binary representations with length n:loci an by a fitness score, which is computed using the callable fitness_function passed as parameter\n",
    "# Operator Agent\n",
    "It defines an agent which compute the variation operators and has a global view on the statistics of the operator applied, initially the purpose was to dinamically adapt the parameter that regolates the use of the operators and the parameters, based on the success statistics of the operators (child with a fitness score higher than the parents)"
   ],
   "metadata": {
    "collapsed": false
   }
  },
  {
   "cell_type": "markdown",
   "source": [],
   "metadata": {
    "collapsed": false
   }
  },
  {
   "cell_type": "code",
   "execution_count": 36,
   "metadata": {
    "ExecuteTime": {
     "end_time": "2023-12-14T14:24:24.657423Z",
     "start_time": "2023-12-14T14:24:24.650060Z"
    }
   },
   "outputs": [],
   "source": [
    "@dataclass\n",
    "class Individual:\n",
    "    genome : tuple[int]\n",
    "    n_loci: int\n",
    "    fitness: float\n",
    "    fitness_func: Callable[[tuple[int]], float]\n",
    "    distance: float\n",
    "    \n",
    "    def __init__(self, FITNESS_FUNC, n_loci, genome = None):\n",
    "        self.n_loci = n_loci\n",
    "        if genome is None:\n",
    "            self.genome = random.choices([0, 1], k=n_loci)\n",
    "        else:\n",
    "            self.genome = genome\n",
    "        self.fitness_func = FITNESS_FUNC\n",
    "        self.fitness = self.fitness_func(self.genome)\n",
    "    \n",
    "    def __repr__(self):\n",
    "        return f\"{[str(val) for val in self.genome]}\"\n",
    "    \n",
    "@dataclass\n",
    "class Operators_agent:\n",
    "    \n",
    "    n_points_number: int\n",
    "    mutation_points: int\n",
    "    points_to_mutate: int\n",
    "    mutation_rate: float\n",
    "    crossover_functions : []\n",
    "\n",
    "    \n",
    "    def __init__(self, n_points_number, points_to_mutate, mutation_rate):\n",
    "        self.n_points_number = n_points_number\n",
    "        self.mutation_points = 1\n",
    "        self.points_to_mutate = points_to_mutate\n",
    "        self.mutation_rate = mutation_rate\n",
    "        self.crossover_functions = [Operators_agent.crossover_one_point, Operators_agent.crossover_n_point, Operators_agent.crossover_uniform]\n",
    "        \n",
    "    \n",
    "    def mutate(self, individual: \"Individual\"):\n",
    "        \n",
    "        index_to_mutate = random.choices(range(individual.n_loci), k=self.points_to_mutate)\n",
    "        new_genome = deepcopy(individual.genome)\n",
    "        for i in index_to_mutate:\n",
    "            new_genome[i] = 1 - new_genome[i]\n",
    "        return Individual(individual.fitness_func, individual.n_loci, new_genome)\n",
    "    \n",
    "    def crossover(self, ind1: \"Individual\", ind2: \"Individual\", cross_operation: int):\n",
    "        crossover_function = self.crossover_functions[cross_operation]\n",
    "        child = crossover_function(ind1, ind2, self.n_points_number)\n",
    "        return child\n",
    "    \n",
    "    def crossover_one_point(ind1: \"Individual\", ind2: \"Individual\", n):\n",
    "        index_to_cross = random.randrange(ind1.n_loci)\n",
    "        child = Individual(ind1.fitness_func, ind1.n_loci, ind1.genome[:index_to_cross] + ind2.genome[index_to_cross:])\n",
    "        return child\n",
    "        \n",
    "    def crossover_n_point(ind1: \"Individual\", ind2: \"Individual\", n):\n",
    "        index_list = sorted(random.sample(range(ind1.n_loci), n))\n",
    "        child1_genome, child2_genome = ind1.genome[:], ind2.genome[:]\n",
    "        for i in range(0, n, 2):\n",
    "            start = index_list[i]\n",
    "            end = index_list[i+1] if i+1 < n else len(ind1.genome)\n",
    "            child1_genome[start:end] = child2_genome[start:end]\n",
    "        return Individual(ind1.fitness_func, ind1.n_loci, child1_genome)\n",
    "                    \n",
    "    def crossover_uniform(ind1: \"Individual\", ind2: \"Individual\", n):\n",
    "        index_list = [random.random() for _ in range(ind1.n_loci)]\n",
    "        return Individual(ind1.fitness_func, ind1.n_loci, [i1 if index < .5 else i2 for i1, i2, index in zip(ind1.genome, ind2.genome, index_list)])"
   ]
  },
  {
   "cell_type": "markdown",
   "source": [
    "# Parent selection function\n",
    "This function compute a stochastic universal sampling for parent selection and use as parameter the reduction factor \"parent_selection_rate\" to indicates how much to reduce the initial populations\n",
    "This technique is an alternative to the roulette wheel algorithm, conceptually it is equivalent to making one spin of a wheel with lambda equally spaced arms rather than lambda spins of a one armed wheel like the roulette, and that make a better sample of the distribution.\n",
    "The resulting population will be the one where the tournament takes place"
   ],
   "metadata": {
    "collapsed": false
   }
  },
  {
   "cell_type": "code",
   "execution_count": 37,
   "outputs": [],
   "source": [
    "def stochastic_universal_sampling(population: List[Individual], parent_selection_rate: int) -> List[Individual]:\n",
    "        \n",
    "    total_fitness = sum(ind.fitness for ind in population)\n",
    "    pointer_distance = total_fitness / len(population)\n",
    "    num_selected_parents = int(parent_selection_rate)\n",
    "    start = uniform(0, pointer_distance)\n",
    "    pointers = [start + i * pointer_distance for i in range(num_selected_parents)]\n",
    "\n",
    "    new_population = []\n",
    "    current_index = 0\n",
    "    for pointer in pointers:\n",
    "        while pointer > 0:\n",
    "            pointer -= population[current_index].fitness\n",
    "            current_index = (current_index + 1) % len(population)\n",
    "        new_population.append(population[current_index])\n",
    "        if len(new_population) == num_selected_parents:\n",
    "            break \n",
    "\n",
    "    return new_population"
   ],
   "metadata": {
    "collapsed": false,
    "ExecuteTime": {
     "end_time": "2023-12-14T14:24:25.609822Z",
     "start_time": "2023-12-14T14:24:25.601120Z"
    }
   }
  },
  {
   "cell_type": "markdown",
   "source": [
    "# Tournament function\n",
    "It implements a tournament selection to take a parent to use for recombination or reproduction"
   ],
   "metadata": {
    "collapsed": false
   }
  },
  {
   "cell_type": "code",
   "execution_count": 38,
   "outputs": [],
   "source": [
    "def select_parent(parents: list[Individual], size: int):\n",
    "    pool = choices(parents, k=size)\n",
    "    winner = max(pool, key=lambda ind: ind.fitness)\n",
    "    return winner"
   ],
   "metadata": {
    "collapsed": false,
    "ExecuteTime": {
     "end_time": "2023-12-14T14:24:27.248278Z",
     "start_time": "2023-12-14T14:24:27.232518Z"
    }
   }
  },
  {
   "cell_type": "markdown",
   "source": [
    "# Offspring generation function\n",
    "It generates the offspring by apply, using the tournament function to select the parent each iteration, a recombination or mutation depending on the mutation rate"
   ],
   "metadata": {
    "collapsed": false
   }
  },
  {
   "cell_type": "code",
   "execution_count": 39,
   "outputs": [],
   "source": [
    "def offspring_generation(parents: List[Individual], offspring_size: int, operator_agent: \"Operators_agent\", tournament_size: int, cross_operation) -> List[Individual]:\n",
    "    offspring = []\n",
    "    offspring_length = int(offspring_size)\n",
    "    \n",
    "    for _ in range(offspring_length):\n",
    "        p = select_parent(parents, tournament_size)\n",
    "        if random.random() < operator_agent.mutation_rate:\n",
    "            offspring.append(operator_agent.mutate(p))\n",
    "        else:\n",
    "            p2 = select_parent(parents, tournament_size)\n",
    "            offspring.append(operator_agent.crossover(p, p2, cross_operation))\n",
    "                  \n",
    "    return offspring"
   ],
   "metadata": {
    "collapsed": false,
    "ExecuteTime": {
     "end_time": "2023-12-14T14:24:29.628208Z",
     "start_time": "2023-12-14T14:24:29.625400Z"
    }
   }
  },
  {
   "cell_type": "code",
   "execution_count": 69,
   "outputs": [],
   "source": [
    "def offspring_generation_mixture(parents: List[Individual], offspring_size: int, operator_agent: \"Operators_agent\", tournament_size: int, cross_operation) -> List[Individual]:\n",
    "    offspring = []\n",
    "    offspring_length = int(offspring_size)\n",
    "    \n",
    "    for _ in range(offspring_length):\n",
    "        p = select_parent(parents, tournament_size)\n",
    "        p2 = select_parent(parents, tournament_size)\n",
    "        if random.random() < operator_agent.mutation_rate:\n",
    "            offspring.append(operator_agent.mutate(operator_agent.crossover(p, p2, cross_operation)))\n",
    "        else:\n",
    "            \n",
    "            offspring.append(operator_agent.crossover(p, p2, cross_operation))\n",
    "                  \n",
    "    return offspring"
   ],
   "metadata": {
    "collapsed": false,
    "ExecuteTime": {
     "end_time": "2023-12-16T10:25:31.773920Z",
     "start_time": "2023-12-16T10:25:31.766245Z"
    }
   }
  },
  {
   "cell_type": "code",
   "execution_count": 50,
   "outputs": [],
   "source": [
    "@dataclass\n",
    "class Island:\n",
    "    population: List[Individual]\n",
    "    \n",
    "    def __init__(self, POPULATION_SIZE: int, fitness_func: Callable[[tuple[int]], float], n_loci: int):\n",
    "        self.population = []\n",
    "        for _ in range(POPULATION_SIZE):\n",
    "            self.population.append(Individual(fitness_func, n_loci))\n",
    "    \n",
    "    def take_best(self):\n",
    "        return max(self.population, key=lambda ind: ind.fitness)\n",
    "            \n",
    "def move_migrants(island1: \"Island\", island2: \"Island\",  n_migrants: int, distance_function) -> List[Individual]:\n",
    "    # Calculate distances from island1 to island2\n",
    "    distances_1_to_2 = [sum(distance_function(ind1, ind2) for ind2 in island2.population) / len(island2.population)\n",
    "                        for ind1 in island1.population]\n",
    "\n",
    "    # Calculate distances from island2 to island1\n",
    "    distances_2_to_1 = [sum(distance_function(ind2, ind1) for ind2 in island1.population) / len(island1.population)\n",
    "                        for ind1 in island2.population]\n",
    "\n",
    "    # Sort indices based on distances\n",
    "    island1_sorted_indices = sorted(range(len(island1.population)), key=lambda i: distances_1_to_2[i], reverse=True)\n",
    "    island2_sorted_indices = sorted(range(len(island2.population)), key=lambda i: distances_2_to_1[i], reverse=True)\n",
    "\n",
    "    # Select best individuals as migrants\n",
    "    best_ind_from_island_1 = [island1.population[idx] for idx in island1_sorted_indices[:n_migrants]]\n",
    "    best_ind_from_island_2 = [island2.population[idx] for idx in island2_sorted_indices[:n_migrants]]\n",
    "\n",
    "    # Update populations by removing selected migrants and adding new migrants\n",
    "    island1.population = [ind for idx, ind in enumerate(island1.population) if idx >= n_migrants]\n",
    "    island2.population = [ind for idx, ind in enumerate(island2.population) if idx >= n_migrants]\n",
    "\n",
    "    island1.population.extend(best_ind_from_island_2)\n",
    "    island2.population.extend(best_ind_from_island_1)\n",
    "        \n",
    "\n",
    "    "
   ],
   "metadata": {
    "collapsed": false,
    "ExecuteTime": {
     "end_time": "2023-12-14T14:29:54.859512Z",
     "start_time": "2023-12-14T14:29:54.837591Z"
    }
   }
  },
  {
   "cell_type": "markdown",
   "source": [
    "# Distance function"
   ],
   "metadata": {
    "collapsed": false
   }
  },
  {
   "cell_type": "code",
   "execution_count": 41,
   "outputs": [],
   "source": [
    "import numpy as np\n",
    "\n",
    "def hamming_distance(ind1: \"Individual\", ind2: \"Individual\") -> float:\n",
    "    distance = 0\n",
    "    for i in range(ind1.n_loci):\n",
    "        if ind1.genome[i]!= ind2.genome[i]:\n",
    "            distance += 1\n",
    "    return distance/len(ind1.genome)\n",
    "\n",
    "def jaccard_distance(ind1: \"Individual\", ind2: \"Individual\") -> float:\n",
    "    intersection = np.logical_and(ind1.genome, ind2.genome).sum();\n",
    "    union = np.logical_or(ind1.genome, ind2.genome).sum();\n",
    "    return 1-(intersection/union)\n",
    "\n",
    "def euclidean_distance(ind1: \"Individual\", ind2: \"Individual\") -> float:\n",
    "    distance = sum((int(ind1.genome[i]) - int(ind2.genome[i]))**2 for i in range(ind1.n_loci))\n",
    "    max_possible_distance = (2 ** 0.5) * ind1.n_loci  # Maximum possible distance for normalized Euclidean distance\n",
    "    normalized_distance = (distance ** 0.5) / max_possible_distance\n",
    "    return normalized_distance\n",
    "\n",
    "def manhattan_distance_binary(ind1: \"Individual\", ind2: \"Individual\") -> float:\n",
    "    \n",
    "    distance = sum(abs(int(ind1.genome[i]) - int(ind2.genome[i])) for i in range(ind1.n_loci))\n",
    "    max_possible_distance = ind1.n_loci  # Maximum possible distance for normalized Manhattan distance\n",
    "    normalized_distance = distance / max_possible_distance\n",
    "    return normalized_distance\n",
    "    "
   ],
   "metadata": {
    "collapsed": false,
    "ExecuteTime": {
     "end_time": "2023-12-14T14:24:31.633621Z",
     "start_time": "2023-12-14T14:24:31.630098Z"
    }
   }
  },
  {
   "cell_type": "markdown",
   "source": [
    "# Evolutionary algorithm\n",
    "It implements all the evolutionary cycle\n",
    "The principal steps are:\n",
    "* Initialization\n",
    "    * Initializes the fitness_function with the specified instance\n",
    "    * Generates the initial population randomically\n",
    "* For each generation:\n",
    "    * It first applies elitism to select the best parent\n",
    "    * It generates the offspring population, with a size specifying by the offspring rate\n",
    "    * It selects the best individual considering the union of both selected parents and offspring or just the offspring, depending on the selection type\n",
    "    * It checks if the best individual has reached the fitness score goal\n",
    "* to compute the variation operators it uses an operator agent\n",
    "    \n",
    "* In the end it returns both the best individual and the number of fitness calls "
   ],
   "metadata": {
    "collapsed": false
   }
  },
  {
   "cell_type": "code",
   "execution_count": 42,
   "outputs": [],
   "source": [
    "\n",
    "\n",
    "def launch_es_cycle(problem_instance: int, populations_number: int, n_loci: int, generations: int, offspring_size: int, tournament_size: int, selection_type: int, operator_agent: \"Operators_agent\", cross_operation: int):\n",
    "    \n",
    "    fitness_func = lab9_lib.make_problem(problem_instance)\n",
    "    population = [Individual(fitness_func, n_loci) for _ in range(populations_number)]\n",
    "    \n",
    "    for gen in range(generations):\n",
    "        \n",
    "        offspring = offspring_generation(population, offspring_size, operator_agent, tournament_size, cross_operation)\n",
    "        population = sorted(population+offspring if selection_type == 1 else offspring, key=lambda p: p.fitness, reverse=True)[:populations_number]\n",
    "        if math.isclose(1, population[0].fitness):\n",
    "            break\n",
    "        \n",
    "    return population[0], fitness_func.calls"
   ],
   "metadata": {
    "collapsed": false,
    "ExecuteTime": {
     "end_time": "2023-12-14T14:24:35.749658Z",
     "start_time": "2023-12-14T14:24:35.715179Z"
    }
   }
  },
  {
   "cell_type": "markdown",
   "source": [
    "# Parameters tuning\n",
    "This code has the purpose to tune some parameters, considering a small populations size and generations number, to find the best combination that will be used then to test the algorithm\n",
    "The parameters are:\n",
    "* OFFSPRING_SIZE: It indicates the size of the generated offspring\n",
    "* CROSS_OPERATIONS: It contains an array of 3 integer, each one corresponding to a different cross function\n",
    "* NUMBER_CROSSOVER_POINTS: It contains an array of integer that indicates the point in which the parents will be split in the crossover_n_point function\n",
    "* TOURNAMENT_SIZE: It indicates how much is the size of the array of individuals selected to compete in the tournament selection\n",
    "* MUTATION_POINTS: It indicates how much points the mutation change"
   ],
   "metadata": {
    "collapsed": false
   }
  },
  {
   "cell_type": "code",
   "execution_count": 919,
   "outputs": [
    {
     "name": "stdout",
     "output_type": "stream",
     "text": [
      "Instance 1\n",
      " Best Individual: Score: 1.0\n",
      " Calls: 17390\n",
      "Parameters:\n",
      " Tournament size:8\n",
      "Selection type:1\n",
      "Points to mutate:1\n",
      "Cross operation:2\n",
      "\n",
      "Instance 2\n",
      " Best Individual: Score: 0.812\n",
      " Calls: 20050\n",
      "Parameters:\n",
      " Tournament size:8\n",
      "Selection type:1\n",
      "Points to mutate:4\n",
      "Cross operation:2\n",
      "\n",
      "Instance 5\n",
      " Best Individual: Score: 0.4656\n",
      " Calls: 20050\n",
      "Parameters:\n",
      " Tournament size:4\n",
      "Selection type:1\n",
      "Points to mutate:4\n",
      "Cross operation:1\n",
      "\n",
      "Instance 10\n",
      " Best Individual: Score: 0.40372\n",
      " Calls: 20050\n",
      "Parameters:\n",
      " Tournament size:4\n",
      "Selection type:1\n",
      "Points to mutate:4\n",
      "Cross operation:0\n"
     ]
    }
   ],
   "source": [
    "import itertools\n",
    "\n",
    "LOCI = 1000\n",
    "PROBLEM_INSTANCES = [1, 2, 5, 10]\n",
    "\n",
    "GENERATIONS_TEST = 1000\n",
    "POPULATIONS_NUMBER_TEST = 50\n",
    "\n",
    "OFFSPRING_SIZE = 20\n",
    "NUMBER_CROSSOVER_POINTS = 2\n",
    "MUTATION_RATES = {1: 0.8, 2: 0.2, 5: 0.2, 10: 0.2}\n",
    "\n",
    "TOURNAMENT_SIZE = [2, 4, 8]\n",
    "SELECTION_TYPE = [0, 1]\n",
    "CROSS_OPERATIONS = [0, 1, 2]\n",
    "MUTATION_POINTS = [1, 4]\n",
    "\n",
    "parameter_combinations = list(itertools.product(PROBLEM_INSTANCES, TOURNAMENT_SIZE, SELECTION_TYPE, MUTATION_POINTS, CROSS_OPERATIONS))\n",
    "\n",
    "best_parameters = {}\n",
    "best_individuals = {}\n",
    "\n",
    "for instance, t_size, s_type, m_points, cr_op in parameter_combinations:\n",
    "    operator_agent = Operators_agent(NUMBER_CROSSOVER_POINTS, m_points, MUTATION_RATES[instance])\n",
    "    individual, calls = launch_es_cycle(instance, POPULATIONS_NUMBER_TEST, LOCI, GENERATIONS_TEST, OFFSPRING_SIZE, t_size, s_type, operator_agent, cr_op)\n",
    "    if instance not in best_parameters or (individual.fitness > best_individuals[instance][0].fitness)\\\n",
    "            or (math.isclose(individual.fitness, best_individuals[instance][0].fitness) and calls < best_individuals[instance][1]):\n",
    "        best_individuals[instance] = [individual, calls]\n",
    "        best_parameters[instance] = [t_size, s_type, m_points, cr_op]\n",
    "\n",
    "for instance in PROBLEM_INSTANCES:\n",
    "    print(f\"Instance {instance}\\n \"\n",
    "          f\"Best Individual: Score: {best_individuals[instance][0].fitness}\\n \"              \n",
    "          f\"Calls: {best_individuals[instance][1]}\")\n",
    "    print(f\"Parameters:\\n \"\n",
    "          f\"Tournament size:{best_parameters[instance][0]}\\n\"\n",
    "          f\"Selection type:{best_parameters[instance][1]}\\n\"\n",
    "          f\"Points to mutate:{best_parameters[instance][2]}\\n\"\n",
    "          f\"Cross operation:{best_parameters[instance][3]}\\n\")\n"
   ],
   "metadata": {
    "collapsed": false,
    "ExecuteTime": {
     "end_time": "2023-12-02T15:59:48.315715Z",
     "start_time": "2023-12-02T15:54:50.594028Z"
    }
   }
  },
  {
   "cell_type": "markdown",
   "source": [
    "# Instance 1 \n",
    "Parameter tuning for offspring and population size\n"
   ],
   "metadata": {
    "collapsed": false
   }
  },
  {
   "cell_type": "code",
   "execution_count": 921,
   "outputs": [
    {
     "name": "stdout",
     "output_type": "stream",
     "text": [
      "Instance 1\n",
      " Best Individual: Score: 1.0\n",
      " Calls: 11660\n",
      "Parameters:\n",
      " Population size:20\n",
      "Offspring size:20\n"
     ]
    }
   ],
   "source": [
    "TOURNAMENT_SIZE = 8\n",
    "SELECTION_TYPE = 1\n",
    "POINTS_TO_MUTATE = 1\n",
    "CROSS_OPERATION = 2\n",
    "INSTANCE = 1\n",
    "POPULATION_SIZE = [20, 40, 60, 80]\n",
    "OFFSPRING_SIZE = [20, 30, 40, 50]\n",
    "MUTATION_RATE = 0.8\n",
    "GENERATIONS = 5000\n",
    "\n",
    "parameter_combinations = list(itertools.product(POPULATION_SIZE, OFFSPRING_SIZE))\n",
    "\n",
    "best_parameters = {}\n",
    "best_individuals = {}\n",
    "\n",
    "for p_size, of_size in parameter_combinations:\n",
    "    operator_agent = Operators_agent(INSTANCE, POINTS_TO_MUTATE, MUTATION_RATE)\n",
    "    individual, calls = launch_es_cycle(INSTANCE, p_size, LOCI, GENERATIONS, of_size, TOURNAMENT_SIZE, SELECTION_TYPE, operator_agent, CROSS_OPERATION)\n",
    "    if instance not in best_parameters or (individual.fitness > best_individuals[instance][0].fitness)\\\n",
    "            or (math.isclose(individual.fitness, best_individuals[instance][0].fitness) and calls < best_individuals[instance][1]):\n",
    "        best_individuals[instance] = [individual, calls]\n",
    "        best_parameters[instance] = [p_size, of_size]\n",
    "\n",
    "print(f\"Instance {INSTANCE}\\n \"\n",
    "          f\"Best Individual: Score: {best_individuals[instance][0].fitness}\\n \"              \n",
    "          f\"Calls: {best_individuals[instance][1]}\")\n",
    "print(f\"Parameters:\\n \"\n",
    "          f\"Population size:{best_parameters[instance][0]}\\n \"\n",
    "          f\"Offspring size:{best_parameters[instance][1]}\\n\")"
   ],
   "metadata": {
    "collapsed": false,
    "ExecuteTime": {
     "end_time": "2023-12-02T16:10:31.038848Z",
     "start_time": "2023-12-02T16:09:40.846073Z"
    }
   }
  },
  {
   "cell_type": "markdown",
   "source": [
    "This function enhanced the previous one by adding a control on the standard deviation and, in case of a too low value, it decrement the population to a minor number with the stochastic universal sampling and then add random individual to reobtain the original population number"
   ],
   "metadata": {
    "collapsed": false
   }
  },
  {
   "cell_type": "code",
   "execution_count": 46,
   "outputs": [],
   "source": [
    "import numpy as np\n",
    "\n",
    "def launch_es_cycle_with_survival_selection(problem_instance: int, populations_number: int, n_loci: int, generations: int, offspring_size: int, tournament_size: int, selection_type: int, operator_agent: \"Operators_agent\", cross_operation: int, parent_selection_size: int):\n",
    "    \n",
    "    fitness_func = lab9_lib.make_problem(problem_instance)\n",
    "    population = [Individual(fitness_func, n_loci) for _ in range(populations_number)]\n",
    "    \n",
    "    for gen in range(generations):\n",
    "        \n",
    "        offspring = offspring_generation(population, offspring_size, operator_agent, tournament_size, cross_operation)\n",
    "        population = sorted(population+offspring if selection_type == 1 else offspring, key=lambda p: p.fitness, reverse=True)[:populations_number]\n",
    "        if math.isclose(1, population[0].fitness):\n",
    "            break\n",
    "        if np.std([p.fitness for p in population]) < 0.005:\n",
    "            best_individual = population[0]\n",
    "            population.remove(population[0])\n",
    "            population = stochastic_universal_sampling(population, parent_selection_size)\n",
    "            population.append(best_individual)\n",
    "            population.extend([Individual(fitness_func, n_loci) for _ in range(populations_number-len(population))])\n",
    "        \n",
    "    return population[0], fitness_func.calls"
   ],
   "metadata": {
    "collapsed": false,
    "ExecuteTime": {
     "end_time": "2023-12-14T14:26:59.197655Z",
     "start_time": "2023-12-14T14:26:59.174278Z"
    }
   }
  },
  {
   "cell_type": "code",
   "execution_count": 943,
   "outputs": [
    {
     "name": "stdout",
     "output_type": "stream",
     "text": [
      "Instance 2\n",
      " Best Individual: Score: 0.998\n",
      " Calls: 2776388\n",
      "Parameters:\n",
      " Parent Selection Rate:65\n",
      "Mutation Rate:0.6\n",
      "\n",
      "Instance 5\n",
      " Best Individual: Score: 0.72\n",
      " Calls: 2650248\n",
      "Parameters:\n",
      " Parent Selection Rate:65\n",
      "Mutation Rate:0.6\n",
      "\n",
      "Instance 10\n",
      " Best Individual: Score: 0.4\n",
      " Calls: 2634532\n",
      "Parameters:\n",
      " Parent Selection Rate:35\n",
      "Mutation Rate:0.6\n"
     ]
    }
   ],
   "source": [
    "LOCI = 1000\n",
    "PROBLEM_INSTANCES = [2, 5, 10]\n",
    "\n",
    "TOURNAMENT_SIZE = {2: 8, 5: 4, 10: 4}\n",
    "SELECTION_TYPE = 1\n",
    "POINTS_TO_MUTATE = 4\n",
    "CROSS_OPERATION = {2: 2, 5: 1, 10: 0}\n",
    "NUMBER_CROSSOVER_POINTS = 2\n",
    "PARENT_SELECTION_SIZE = [35, 65]\n",
    "POPULATION_SIZE = 100\n",
    "OFFSPRING_SIZE = 50\n",
    "MUTATION_RATE = [0.2, 0.6]\n",
    "GENERATIONS = 40000\n",
    "\n",
    "\n",
    "parameter_combinations = list(itertools.product(PROBLEM_INSTANCES, PARENT_SELECTION_SIZE, MUTATION_RATE))\n",
    "\n",
    "best_parameters = {}\n",
    "best_individuals = {}\n",
    "\n",
    "for instance, p_s_s, m_rate in parameter_combinations:\n",
    "    operator_agent = Operators_agent(NUMBER_CROSSOVER_POINTS, POINTS_TO_MUTATE, m_rate)\n",
    "    individual, calls = launch_es_cycle_with_survival_selection(instance, POPULATION_SIZE, LOCI, GENERATIONS, OFFSPRING_SIZE, TOURNAMENT_SIZE[instance], SELECTION_TYPE, operator_agent, CROSS_OPERATION[instance], p_s_s)\n",
    "    if instance not in best_parameters or (individual.fitness > best_individuals[instance][0].fitness)\\\n",
    "            or (math.isclose(individual.fitness, best_individuals[instance][0].fitness) and calls < best_individuals[instance][1]):\n",
    "        best_individuals[instance] = [individual, calls]\n",
    "        best_parameters[instance] = [p_s_s, m_rate]\n",
    "\n",
    "for instance in PROBLEM_INSTANCES:\n",
    "    print(f\"Instance {instance}\\n \"\n",
    "          f\"Best Individual: Score: {best_individuals[instance][0].fitness}\\n \"              \n",
    "          f\"Calls: {best_individuals[instance][1]}\")\n",
    "    print(f\"Parameters:\\n \"\n",
    "          f\"Parent Selection Rate:{best_parameters[instance][0]}\\n\"\n",
    "          f\"Mutation Rate:{best_parameters[instance][1]}\\n\")"
   ],
   "metadata": {
    "collapsed": false,
    "ExecuteTime": {
     "end_time": "2023-12-03T12:15:48.600673Z",
     "start_time": "2023-12-03T08:53:36.782750Z"
    }
   }
  },
  {
   "cell_type": "code",
   "execution_count": 70,
   "outputs": [],
   "source": [
    "\n",
    "def launch_islands_model(problem_instance: int, populations_number_per_islands: int, islands_number: int, migrants_number: int, n_loci: int, generations: int, offspring_size: int, tournament_size: int, selection_type: int, operator_agent: \"Operators_agent\", cross_operation: int, parent_selection_size: int, distance_function):\n",
    "    \n",
    "    fitness_func = lab9_lib.make_problem(problem_instance)\n",
    "    islands_list = [Island(populations_number_per_islands, fitness_func, n_loci) for _ in range(islands_number)]\n",
    "            \n",
    "    for gen in range(generations):\n",
    "        if (gen % 5 == 0):\n",
    "            for _ in range(islands_number//2):\n",
    "                index_1 = np.random.randint(0, islands_number)\n",
    "                index_2 = np.random.randint(0, islands_number)\n",
    "                while index_1 == index_2:\n",
    "                    index_2 = np.random.randint(0, islands_number)\n",
    "                island1, island2 = islands_list[index_1], islands_list[index_2]\n",
    "                move_migrants(island1, island2, migrants_number, distance_function)\n",
    "        for island in islands_list:\n",
    "            offspring = offspring_generation_mixture(island.population, offspring_size, operator_agent, tournament_size, cross_operation)\n",
    "            island.population = sorted(island.population+offspring if selection_type == 1 else offspring, key=lambda p: p.fitness, reverse=True)[:populations_number_per_islands]\n",
    "            if math.isclose(1, island.population[0].fitness):\n",
    "                break\n",
    "            if np.std([p.fitness for p in island.population]) < 0.005:\n",
    "                best_individual = island.population[0]\n",
    "                island.population.remove(island.population[0])\n",
    "                island.population = stochastic_universal_sampling(island.population, parent_selection_size)\n",
    "                island.population.append(best_individual)\n",
    "                island.population.extend([Individual(fitness_func, n_loci) for _ in range(populations_number_per_islands-len(island.population))])\n",
    "        best = None\n",
    "        for island in islands_list:\n",
    "            best_of_island = island.take_best()\n",
    "            if best is None or (best_of_island.fitness > best.fitness):\n",
    "                best = best_of_island\n",
    "        \n",
    "        \n",
    "    return best, fitness_func.calls\n",
    "    "
   ],
   "metadata": {
    "collapsed": false,
    "ExecuteTime": {
     "end_time": "2023-12-16T10:25:45.519335Z",
     "start_time": "2023-12-16T10:25:45.513504Z"
    }
   }
  },
  {
   "cell_type": "code",
   "execution_count": 72,
   "outputs": [
    {
     "name": "stdout",
     "output_type": "stream",
     "text": [
      "Instance 2\n",
      " Best Individual: Score: 0.99\n",
      " Calls: 3999299\n",
      "Instance 5\n",
      " Best Individual: Score: 0.515\n",
      " Calls: 3999340\n",
      "Instance 10\n",
      " Best Individual: Score: 0.33\n",
      " Calls: 4199537\n"
     ]
    }
   ],
   "source": [
    "import itertools\n",
    "\n",
    "LOCI = 1000\n",
    "PROBLEM_INSTANCES = [2, 5, 10]\n",
    "\n",
    "TOURNAMENT_SIZE = {2: 8, 5: 4, 10: 4}\n",
    "SELECTION_TYPE = 1\n",
    "POINTS_TO_MUTATE = 4\n",
    "CROSS_OPERATION = {2: 2, 5: 1, 10: 0}\n",
    "NUMBER_CROSSOVER_POINTS = 2\n",
    "PARENT_SELECTION_SIZE = {2: 65, 5: 65, 10: 35}\n",
    "OFFSPRING_SIZE = 50\n",
    "MUTATION_RATE = 0.6\n",
    "ISLANDS_NUMBER = 5\n",
    "POPULATION_SIZE_PER_ISLANDS = 40\n",
    "MIGRANTS_NUMBER = 10\n",
    "DISTANCE_FUNCTION = [hamming_distance]\n",
    "GENERATIONS = 10000\n",
    "\n",
    "\n",
    "best_individuals = {2: None, 5: None, 10: None}\n",
    "\n",
    "for instance in PROBLEM_INSTANCES:\n",
    "    operator_agent = Operators_agent(NUMBER_CROSSOVER_POINTS, POINTS_TO_MUTATE, MUTATION_RATE)\n",
    "    individual, calls = launch_islands_model(instance, POPULATION_SIZE_PER_ISLANDS, ISLANDS_NUMBER, MIGRANTS_NUMBER, LOCI, GENERATIONS, OFFSPRING_SIZE, TOURNAMENT_SIZE[instance], SELECTION_TYPE, operator_agent, CROSS_OPERATION[instance], PARENT_SELECTION_SIZE[instance], hamming_distance)\n",
    "    if  best_individuals[instance] == None or (individual.fitness > best_individuals[instance][0].fitness)\\\n",
    "            or (math.isclose(individual.fitness, best_individuals[instance][0].fitness) and calls < best_individuals[instance][1]):\n",
    "        best_individuals[instance] = [individual, calls]\n",
    "        \n",
    "\n",
    "for instance in PROBLEM_INSTANCES:\n",
    "    print(f\"Instance {instance}\\n \"\n",
    "          f\"Best Individual: Score: {best_individuals[instance][0].fitness}\\n \"              \n",
    "          f\"Calls: {best_individuals[instance][1]}\")          "
   ],
   "metadata": {
    "collapsed": false,
    "ExecuteTime": {
     "end_time": "2023-12-16T20:34:13.324765Z",
     "start_time": "2023-12-16T19:42:22.796920Z"
    }
   }
  },
  {
   "cell_type": "code",
   "execution_count": 55,
   "outputs": [
    {
     "name": "stdout",
     "output_type": "stream",
     "text": [
      "Best Individual: Score: 0.55\n",
      " Calls: 801000\n"
     ]
    }
   ],
   "source": [
    "operator_agent = Operators_agent(2, 4, 0.6)\n",
    "individual, calls = launch_islands_model(5, 50, 20, 20, 1000, 1000, 40, 4, 1, operator_agent, 1, 65, euclidean_distance)\n",
    "print(f\"Best Individual: Score: {individual.fitness}\\n Calls: {calls}\")"
   ],
   "metadata": {
    "collapsed": false,
    "ExecuteTime": {
     "end_time": "2023-12-14T14:52:08.549219Z",
     "start_time": "2023-12-14T14:35:00.355953Z"
    }
   }
  },
  {
   "cell_type": "code",
   "execution_count": 56,
   "outputs": [
    {
     "name": "stdout",
     "output_type": "stream",
     "text": [
      "Best Individual: Score: 0.6143\n",
      " Calls: 801000\n"
     ]
    }
   ],
   "source": [
    "operator_agent = Operators_agent(2, 4, 0.6)\n",
    "individual, calls = launch_islands_model(5, 50, 20, 20, 1000, 1000, 40, 4, 1, operator_agent, 1, 65, manhattan_distance_binary)\n",
    "print(f\"Best Individual: Score: {individual.fitness}\\n Calls: {calls}\")"
   ],
   "metadata": {
    "collapsed": false,
    "ExecuteTime": {
     "end_time": "2023-12-14T15:10:25.583526Z",
     "start_time": "2023-12-14T14:54:30.490744Z"
    }
   }
  },
  {
   "cell_type": "code",
   "execution_count": 57,
   "outputs": [
    {
     "name": "stdout",
     "output_type": "stream",
     "text": [
      "Best Individual: Score: 0.6063\n",
      " Calls: 801000\n"
     ]
    }
   ],
   "source": [
    "operator_agent = Operators_agent(2, 4, 0.6)\n",
    "individual, calls = launch_islands_model(5, 50, 20, 20, 1000, 1000, 40, 4, 1, operator_agent, 1, 65, jaccard_distance)\n",
    "print(f\"Best Individual: Score: {individual.fitness}\\n Calls: {calls}\")"
   ],
   "metadata": {
    "collapsed": false,
    "ExecuteTime": {
     "end_time": "2023-12-14T15:42:05.445907Z",
     "start_time": "2023-12-14T15:22:02.276717Z"
    }
   }
  },
  {
   "cell_type": "code",
   "execution_count": 60,
   "outputs": [
    {
     "name": "stdout",
     "output_type": "stream",
     "text": [
      "Best Individual: Score: 0.6309\n",
      " Calls: 801000\n"
     ]
    }
   ],
   "source": [
    "operator_agent = Operators_agent(2, 4, 0.6)\n",
    "individual, calls = launch_islands_model(5, 50, 20, 20, 1000, 1000, 40, 4, 1, operator_agent, 1, 65, hamming_distance)\n",
    "print(f\"Best Individual: Score: {individual.fitness}\\n Calls: {calls}\")"
   ],
   "metadata": {
    "collapsed": false,
    "ExecuteTime": {
     "end_time": "2023-12-14T16:02:36.046192Z",
     "start_time": "2023-12-14T15:54:12.397441Z"
    }
   }
  },
  {
   "cell_type": "markdown",
   "source": [],
   "metadata": {
    "collapsed": false
   }
  }
 ],
 "metadata": {
  "kernelspec": {
   "display_name": "ci-fLJ3OwGs-py3.12",
   "language": "python",
   "name": "python3"
  },
  "language_info": {
   "codemirror_mode": {
    "name": "ipython",
    "version": 3
   },
   "file_extension": ".py",
   "mimetype": "text/x-python",
   "name": "python",
   "nbconvert_exporter": "python",
   "pygments_lexer": "ipython3",
   "version": "3.12.0"
  }
 },
 "nbformat": 4,
 "nbformat_minor": 2
}
